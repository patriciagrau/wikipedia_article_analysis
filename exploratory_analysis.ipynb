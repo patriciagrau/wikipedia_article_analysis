{
 "cells": [
  {
   "cell_type": "markdown",
   "id": "d5f2928c",
   "metadata": {},
   "source": [
    "                                                                                        Patricia Grau Francitorra\n",
    "# Exploratory article analysis\n",
    "## Objective\n",
    "1. Get data from Wikipedia - analyse html format\n",
    "2. UD tagging\n",
    "3. Treebanks\n",
    "4. Comparison\n",
    "  - Problem: lining up data with same information.\n",
    "    - Some files have a line for explanation: see first line of french article.\n",
    "    - Info in two sentences contained in one; see French article.\n",
    "    - Some articles do not even have the same sections."
   ]
  },
  {
   "cell_type": "code",
   "execution_count": 1,
   "id": "62ee1dc7",
   "metadata": {},
   "outputs": [],
   "source": [
    "import re\n",
    "import requests\n",
    "import json\n",
    "import tempfile\n",
    "from bs4 import BeautifulSoup\n",
    "# format is shift alt f (in VSC)"
   ]
  },
  {
   "cell_type": "markdown",
   "id": "0e0fc539",
   "metadata": {},
   "source": [
    "### 1. Get data from Wikipedia"
   ]
  },
  {
   "cell_type": "code",
   "execution_count": 24,
   "id": "875fcbd2",
   "metadata": {},
   "outputs": [
    {
     "data": {
      "text/plain": [
       "['https://en.wikipedia.org/wiki/Jupiter',\n",
       " 'https://sv.wikipedia.org/wiki/Jupiter',\n",
       " 'https://ca.wikipedia.org/wiki/Jupiter',\n",
       " 'https://es.wikipedia.org/wiki/Jupiter',\n",
       " 'https://fr.wikipedia.org/wiki/Jupiter']"
      ]
     },
     "execution_count": 24,
     "metadata": {},
     "output_type": "execute_result"
    }
   ],
   "source": [
    "# Neat idea, but doesn't work with disambiguating urls, such as Jupiter\n",
    "list_of_langs = ['en','sv' , 'ca', 'es', 'fr']\n",
    "list_of_urls = [f'https://{lang}.wikipedia.org/wiki/Jupiter' for lang in list_of_langs]\n",
    "list_of_urls"
   ]
  },
  {
   "cell_type": "code",
   "execution_count": 3,
   "id": "1ab06e63",
   "metadata": {},
   "outputs": [],
   "source": [
    "eng_jup_url = 'https://en.wikipedia.org/wiki/Jupiter'\n",
    "sv_jup_url = 'https://sv.wikipedia.org/wiki/Jupiter'\n",
    "fr_jup_url = 'https://fr.wikipedia.org/wiki/Jupiter_(planète)' # disambiguation issue\n",
    "spa_jup_url = 'https://es.wikipedia.org/wiki/Júpiter_(planeta)' # disambiguation issue\n",
    "ca_jup_url = 'https://ca.wikipedia.org/wiki/Júpiter_(planeta)' # disambiguation issue"
   ]
  },
  {
   "cell_type": "code",
   "execution_count": 31,
   "id": "ef807164",
   "metadata": {
    "scrolled": true
   },
   "outputs": [],
   "source": [
    "with open('jupiter/html_files/jupiter_en.html', 'w') as f:\n",
    "    f.write(requests.get(url = eng_jup_url).text)\n",
    "with open('jupiter/html_files/jupiter_spa.html', 'w') as g:\n",
    "    g.write(requests.get(url = spa_jup_url).text)\n",
    "with open('jupiter/html_files/jupiter_fr.html', 'w') as g:\n",
    "    g.write(requests.get(url = fr_jup_url).text)"
   ]
  },
  {
   "cell_type": "code",
   "execution_count": 6,
   "id": "07a013b4",
   "metadata": {
    "scrolled": true
   },
   "outputs": [],
   "source": [
    "# r = requests.get(url = eng_jup_url)\n",
    "\n",
    "# r = requests.get(eng_jup_url)\n",
    "# data = r.json()\n",
    "# starters = ['<p>', '</p><p>', '<title>', '<h']\n",
    "# for alltext in r: #data:\n",
    "#     texto = alltext.strip('\\t')\n",
    "#     if texto.startswith(tuple(starters)):# ('<p>') or texto.startswith('</p><p>'): # if '<p>' in texto or '</p>' in texto:\n",
    "#         cleantext = BeautifulSoup(texto, \"html.parser\").text # when using \"lxml\" as the parser insead of html.parser, some paragraphs/lines are missing\n",
    "#         cleantext = re.sub(r'\\[\\d+\\]', '', cleantext) # remove references [digit]\n",
    "#         cleantext = cleantext.strip()\n",
    "#         if len(cleantext) != 0:\n",
    "#             print(cleantext)\n",
    "#             print()"
   ]
  },
  {
   "cell_type": "code",
   "execution_count": 59,
   "id": "abb12608",
   "metadata": {},
   "outputs": [],
   "source": [
    "r = requests.post(url= eng_jup_url)\n",
    "starters = ['<p>', '</p><p>', '<title>', '<h']\n",
    "import tempfile\n",
    "\n",
    "temp = tempfile.TemporaryFile(mode='w+t')\n",
    "\n",
    "try:\n",
    "    temp.writelines(r.text)\n",
    "    \n",
    "    for alltext in temp:\n",
    "        print(alltext)\n",
    "        texto = alltext.strip('\\t')\n",
    "        if texto.startswith(tuple(starters)):# ('<p>') or texto.startswith('</p><p>'): # if '<p>' in texto or '</p>' in texto:\n",
    "            cleantext = BeautifulSoup(texto, \"html.parser\").text # when using \"lxml\" as the parser insead of html.parser, some paragraphs/lines are missing\n",
    "            cleantext = re.sub(r'\\[\\d+\\]', '', cleantext) # remove references [digit]\n",
    "            cleantext = cleantext.strip()\n",
    "            if len(cleantext) != 0:\n",
    "                print(cleantext)\n",
    "                print()\n",
    "finally:\n",
    "    temp.close()"
   ]
  },
  {
   "cell_type": "code",
   "execution_count": 32,
   "id": "6114f902",
   "metadata": {
    "scrolled": true
   },
   "outputs": [],
   "source": [
    "def print_cleantext(file):\n",
    "    starters = ['<p>', '</p><p>', '<title>', '<h']\n",
    "    f = open(file)\n",
    "    # print(f.readlines())\n",
    "    for alltext in f.readlines():\n",
    "        texto = alltext.strip('\\t')\n",
    "        if texto.startswith(tuple(starters)):# ('<p>') or texto.startswith('</p><p>'): # if '<p>' in texto or '</p>' in texto:\n",
    "            cleantext = BeautifulSoup(texto, \"html.parser\").text # when using \"lxml\" as the parser insead of html.parser, some paragraphs/lines are missing\n",
    "            cleantext = re.sub(r'\\[\\d+\\]', '', cleantext) # remove references [digit]\n",
    "            cleantext = cleantext.strip()\n",
    "            if len(cleantext) != 0:\n",
    "                print(cleantext)\n",
    "                print()\n",
    "    f.close()"
   ]
  },
  {
   "cell_type": "code",
   "execution_count": 10,
   "id": "061b8d37",
   "metadata": {},
   "outputs": [],
   "source": [
    "#print_cleantext('jupiter/html_files/jupiter_en.html')"
   ]
  },
  {
   "cell_type": "code",
   "execution_count": 34,
   "id": "c24932f7",
   "metadata": {
    "scrolled": true
   },
   "outputs": [],
   "source": [
    "def save_cleantext(readfile, writefile):\n",
    "    starters = ['<p>', '</p><p>', '<title>', '<h']\n",
    "    f = open(readfile)\n",
    "    with open(writefile, 'w') as g:\n",
    "        for alltext in f.readlines():\n",
    "            texto = alltext.strip('\\t')\n",
    "            if texto.startswith(tuple(starters)):\n",
    "#             if texto.startswith('<p>') or texto.startswith('</p><p>'): # if '<p>' in texto or '</p>' in texto:\n",
    "                cleantext = BeautifulSoup(texto, \"html.parser\").text # when using \"lxml\" as the parser insead of html.parser, some paragraphs/lines are missing\n",
    "                cleantext = re.sub(r'\\[\\d+\\]', '', cleantext) # remove references [digit]\n",
    "                cleantext = cleantext.strip()\n",
    "                cleantext = cleantext.replace(u'\\u200b', '')\n",
    "                if len(cleantext) != 0:\n",
    "                    g.write(cleantext + '\\n')\n",
    "    f.close()"
   ]
  },
  {
   "cell_type": "code",
   "execution_count": 35,
   "id": "86251c2a",
   "metadata": {},
   "outputs": [],
   "source": [
    "save_cleantext('jupiter/html_files/jupiter_en.html', 'jupiter/cleantext/clean_jupiter_en.txt')\n",
    "save_cleantext('jupiter/html_files/jupiter_spa.html', 'jupiter/cleantext/clean_jupiter_spa.txt')\n",
    "save_cleantext('jupiter/html_files/jupiter_fr.html', 'jupiter/cleantext/clean_jupiter_fr.txt')"
   ]
  },
  {
   "cell_type": "markdown",
   "id": "ad48dae9",
   "metadata": {},
   "source": [
    "#### 1.2 Languages in the Wikipedia"
   ]
  },
  {
   "cell_type": "code",
   "execution_count": 18,
   "id": "e2fcb3ca",
   "metadata": {},
   "outputs": [],
   "source": [
    "def get_wiki_lang_codes():\n",
    "    \"\"\"\n",
    "    Retrieves the language codes in Wikipedia\n",
    "    Returns:\n",
    "      - langugages: a dictionary containing\n",
    "        the language code as the key and the\n",
    "        language as the value.\n",
    "    \"\"\"\n",
    "    url_languages = 'https://meta.wikimedia.org/wiki/List_of_Wikipedias'\n",
    "    with tempfile.TemporaryFile(mode='w+t') as tmp:\n",
    "        tmp.write(requests.get(url_languages).text)\n",
    "        tmp.seek(0)\n",
    "        languages = {}\n",
    "        n = 0\n",
    "        l = []\n",
    "        for i, alltext in enumerate(tmp.readlines()):\n",
    "            if i < 165 or i > 8484:\n",
    "                continue\n",
    "            if alltext.startswith('<td>'):\n",
    "                texto = alltext.strip('\\t')\n",
    "                cleantext = BeautifulSoup(texto, \"html.parser\").text # when using \"lxml\" as the parser insead of html.parser, some paragraphs/lines are missing\n",
    "#                 cleantext = re.sub(r'\\[\\d+\\]', '', cleantext) # remove references [digit]\n",
    "#                 cleantext = re.sub('[()]', '', cleantext) # remove parenthesis\n",
    "                cleantext = cleantext.strip()\n",
    "                if len(cleantext) != 0:\n",
    "                    if str(n).endswith('1'):\n",
    "                        l.append(cleantext.lower())\n",
    "                    elif str(n).endswith('2'):\n",
    "                        if l[0] == 'norwegian bokmål':\n",
    "                            l[0] = 'norwegian bokmaal'\n",
    "                        elif l[0] == 'northern sami':\n",
    "                            l[0] = 'north sami'\n",
    "#                         languages[cleantext] = l[0]\n",
    "                        languages[l[0]] = cleantext # other way around\n",
    "                    else:\n",
    "                        l = []\n",
    "                    n += 1\n",
    "    return languages"
   ]
  },
  {
   "cell_type": "code",
   "execution_count": 19,
   "id": "546297a6",
   "metadata": {},
   "outputs": [],
   "source": [
    "languages = get_wiki_lang_codes()"
   ]
  },
  {
   "cell_type": "code",
   "execution_count": 54,
   "id": "813ec7d8",
   "metadata": {},
   "outputs": [],
   "source": [
    "# languages"
   ]
  },
  {
   "cell_type": "markdown",
   "id": "3da10d88",
   "metadata": {},
   "source": [
    "#### 1.3 Wikipedia articles written in the greatest number of languages"
   ]
  },
  {
   "cell_type": "code",
   "execution_count": 19,
   "id": "244d7ec8",
   "metadata": {},
   "outputs": [],
   "source": [
    "r = requests.get('https://en.wikipedia.org/wiki/Wikipedia:Wikipedia_articles_written_in_the_greatest_number_of_languages')\n",
    "articles = {}\n",
    "for element in r.text.split('\\n'):\n",
    "    if element.startswith('<p>') or element.startswith('</p>'):\n",
    "        if len(element.split(' ')) > 1:\n",
    "            link = element.split(' ')[1][7:-1]\n",
    "        text = BeautifulSoup(element, \"html.parser\").text\n",
    "        if ':' in text:\n",
    "            name, other = text.split(':')\n",
    "            for e in other.split(' '):\n",
    "                if e.isnumeric():\n",
    "                    articles[name] = (int(e), link)\n",
    "        else:\n",
    "            words = text.split(' ')\n",
    "            name = words[0]\n",
    "            for e in words:\n",
    "                if e.isnumeric():\n",
    "                    articles[name] = (int(e), link)"
   ]
  },
  {
   "cell_type": "code",
   "execution_count": 55,
   "id": "8f47bad7",
   "metadata": {
    "scrolled": true
   },
   "outputs": [],
   "source": [
    "# dict(sorted(articles.items(), key=lambda item: item[1], reverse = True))"
   ]
  },
  {
   "cell_type": "markdown",
   "id": "eede3d97",
   "metadata": {},
   "source": [
    "### 2. UD tagging"
   ]
  },
  {
   "attachments": {
    "Jupiter%20is%20the%20fifth%20planet%20from%20the%20Sun%20and%20the%20largest%20in%20the%20solar%20system.png": {
     "image/png": "[encoded data removed]"
    }
   },
   "cell_type": "markdown",
   "id": "90f8d645",
   "metadata": {},
   "source": [
    "![Jupiter%20is%20the%20fifth%20planet%20from%20the%20Sun%20and%20the%20largest%20in%20the%20solar%20system.png](attachment:Jupiter%20is%20the%20fifth%20planet%20from%20the%20Sun%20and%20the%20largest%20in%20the%20solar%20system.png)\n",
    "Example of what I want (from corenlp.run) -> in CONLLU format"
   ]
  },
  {
   "cell_type": "code",
   "execution_count": 14,
   "id": "fdbab9f9",
   "metadata": {},
   "outputs": [],
   "source": [
    "# using stanza\n",
    "import stanza\n",
    "from stanza.utils.conll import CoNLL"
   ]
  },
  {
   "cell_type": "code",
   "execution_count": 45,
   "id": "519f1935",
   "metadata": {
    "scrolled": true
   },
   "outputs": [
    {
     "data": {
      "application/vnd.jupyter.widget-view+json": {
       "model_id": "01844959872f4fab809bf347446e90a5",
       "version_major": 2,
       "version_minor": 0
      },
      "text/plain": [
       "Downloading https://raw.githubusercontent.com/stanfordnlp/stanza-resources/main/resources_1.3.0.json:   0%|   …"
      ]
     },
     "metadata": {},
     "output_type": "display_data"
    },
    {
     "name": "stderr",
     "output_type": "stream",
     "text": [
      "2022-01-25 15:42:20 INFO: Downloading default packages for language: en (English)...\n",
      "2022-01-25 15:42:22 INFO: File exists: /home/gusgraupa@GU.GU.SE/stanza_resources/en/default.zip.\n",
      "2022-01-25 15:42:30 INFO: Finished downloading models and saved to /home/gusgraupa@GU.GU.SE/stanza_resources.\n",
      "2022-01-25 15:42:30 INFO: Loading these models for language: en (English):\n",
      "============================\n",
      "| Processor    | Package   |\n",
      "----------------------------\n",
      "| tokenize     | combined  |\n",
      "| pos          | combined  |\n",
      "| lemma        | combined  |\n",
      "| depparse     | combined  |\n",
      "| sentiment    | sstplus   |\n",
      "| constituency | wsj       |\n",
      "| ner          | ontonotes |\n",
      "============================\n",
      "\n",
      "2022-01-25 15:42:30 INFO: Use device: gpu\n",
      "2022-01-25 15:42:30 INFO: Loading: tokenize\n",
      "2022-01-25 15:42:30 INFO: Loading: pos\n",
      "2022-01-25 15:42:32 INFO: Loading: lemma\n",
      "2022-01-25 15:42:33 INFO: Loading: depparse\n",
      "2022-01-25 15:42:35 INFO: Loading: sentiment\n",
      "2022-01-25 15:42:38 INFO: Loading: constituency\n",
      "2022-01-25 15:42:42 INFO: Loading: ner\n",
      "2022-01-25 15:42:48 INFO: Done loading processors!\n"
     ]
    },
    {
     "data": {
      "application/vnd.jupyter.widget-view+json": {
       "model_id": "ff6317cac2e54d75b31a5c9eac2c7c83",
       "version_major": 2,
       "version_minor": 0
      },
      "text/plain": [
       "Downloading https://raw.githubusercontent.com/stanfordnlp/stanza-resources/main/resources_1.3.0.json:   0%|   …"
      ]
     },
     "metadata": {},
     "output_type": "display_data"
    },
    {
     "name": "stderr",
     "output_type": "stream",
     "text": [
      "2022-01-25 15:42:48 INFO: Downloading default packages for language: es (Spanish)...\n",
      "2022-01-25 15:42:50 INFO: File exists: /home/gusgraupa@GU.GU.SE/stanza_resources/es/default.zip.\n",
      "2022-01-25 15:42:59 INFO: Finished downloading models and saved to /home/gusgraupa@GU.GU.SE/stanza_resources.\n",
      "2022-01-25 15:42:59 INFO: Loading these models for language: es (Spanish):\n",
      "=======================\n",
      "| Processor | Package |\n",
      "-----------------------\n",
      "| tokenize  | ancora  |\n",
      "| mwt       | ancora  |\n",
      "| pos       | ancora  |\n",
      "| lemma     | ancora  |\n",
      "| depparse  | ancora  |\n",
      "| ner       | conll02 |\n",
      "=======================\n",
      "\n",
      "2022-01-25 15:42:59 INFO: Use device: gpu\n",
      "2022-01-25 15:42:59 INFO: Loading: tokenize\n",
      "2022-01-25 15:42:59 INFO: Loading: mwt\n",
      "2022-01-25 15:42:59 INFO: Loading: pos\n",
      "2022-01-25 15:43:01 INFO: Loading: lemma\n",
      "2022-01-25 15:43:01 INFO: Loading: depparse\n",
      "2022-01-25 15:43:06 INFO: Loading: ner\n",
      "2022-01-25 15:43:17 INFO: Done loading processors!\n"
     ]
    },
    {
     "data": {
      "application/vnd.jupyter.widget-view+json": {
       "model_id": "54ccd3faef074f4a9da5fe6c74ec62ac",
       "version_major": 2,
       "version_minor": 0
      },
      "text/plain": [
       "Downloading https://raw.githubusercontent.com/stanfordnlp/stanza-resources/main/resources_1.3.0.json:   0%|   …"
      ]
     },
     "metadata": {},
     "output_type": "display_data"
    },
    {
     "name": "stderr",
     "output_type": "stream",
     "text": [
      "2022-01-25 15:43:17 INFO: Downloading default packages for language: fr (French)...\n",
      "2022-01-25 15:43:18 INFO: File exists: /home/gusgraupa@GU.GU.SE/stanza_resources/fr/default.zip.\n",
      "2022-01-25 15:43:28 INFO: Finished downloading models and saved to /home/gusgraupa@GU.GU.SE/stanza_resources.\n",
      "2022-01-25 15:43:28 INFO: Loading these models for language: fr (French):\n",
      "=======================\n",
      "| Processor | Package |\n",
      "-----------------------\n",
      "| tokenize  | gsd     |\n",
      "| mwt       | gsd     |\n",
      "| pos       | gsd     |\n",
      "| lemma     | gsd     |\n",
      "| depparse  | gsd     |\n",
      "| ner       | wikiner |\n",
      "=======================\n",
      "\n",
      "2022-01-25 15:43:28 INFO: Use device: gpu\n",
      "2022-01-25 15:43:28 INFO: Loading: tokenize\n",
      "2022-01-25 15:43:28 INFO: Loading: mwt\n",
      "2022-01-25 15:43:28 INFO: Loading: pos\n",
      "2022-01-25 15:43:32 INFO: Loading: lemma\n",
      "2022-01-25 15:43:33 INFO: Loading: depparse\n",
      "2022-01-25 15:43:36 INFO: Loading: ner\n",
      "2022-01-25 15:43:45 INFO: Done loading processors!\n"
     ]
    }
   ],
   "source": [
    "# Getting first paragraph\n",
    "list_of_clean_files = [('jupiter/clean_jupiter_en.txt', 'en'), ('jupiter/clean_jupiter_spa.txt', 'es'), ('jupiter/clean_jupiter_fr.txt', 'fr')]\n",
    "for file, lang in list_of_clean_files:\n",
    "    stanza.download(lang)\n",
    "    nlp = stanza.Pipeline(lang)\n",
    "    with open(file, 'r') as f:\n",
    "        for line in f:\n",
    "            if line.startswith('J'): # First line talking about Jupiter\n",
    "                doc = nlp(line)\n",
    "                CoNLL.write_doc2conll(doc, f\"jupiter/jup_{lang}.conllu\")\n",
    "                break"
   ]
  },
  {
   "cell_type": "markdown",
   "id": "a29b08bc",
   "metadata": {},
   "source": [
    "### 2.1 UDPipe API"
   ]
  },
  {
   "cell_type": "code",
   "execution_count": 12,
   "id": "e18e883b",
   "metadata": {},
   "outputs": [],
   "source": [
    "# Models\n",
    "r = requests.get('http://lindat.mff.cuni.cz/services/udpipe/api/models')\n",
    "data = json.loads(r.text)\n",
    "models = {}\n",
    "for i in data['models'].keys():\n",
    "    if i.startswith('norwegian') or i.startswith('ancient-greek'):\n",
    "        lang = '_'.join(i.split('-')[0:2])\n",
    "    elif i.startswith('old-church'):\n",
    "        lang = '_'.join(i.split('-')[0:3])  \n",
    "    else:\n",
    "        lang = i.split('-')[0]\n",
    "    if lang in models:\n",
    "        models[lang].append(i)\n",
    "    else:\n",
    "        models[lang] = [i]"
   ]
  },
  {
   "cell_type": "code",
   "execution_count": 35,
   "id": "fdc82c25",
   "metadata": {},
   "outputs": [],
   "source": [
    "#models"
   ]
  },
  {
   "cell_type": "code",
   "execution_count": 56,
   "id": "bb387304",
   "metadata": {},
   "outputs": [],
   "source": [
    "# models.keys()"
   ]
  },
  {
   "cell_type": "code",
   "execution_count": 25,
   "id": "f976b904",
   "metadata": {},
   "outputs": [],
   "source": [
    "# getting CONLLU files with UDPipe 2 on Wikipedia\n",
    "url = 'https://lindat.mff.cuni.cz/services/udpipe/api/process'\n",
    "list_of_clean_files = [('jupiter/cleantext/clean_jupiter_en.txt', 'english'), ('jupiter/cleantext/clean_jupiter_spa.txt', 'spanish'), ('jupiter/cleantext/clean_jupiter_fr.txt', 'french')]\n",
    "for (file, lang) in list_of_clean_files:\n",
    "     with open(file, 'r') as f:\n",
    "        for line in f:\n",
    "            myobj = {'data' : line, 'model' : models[lang],'tokenizer' : '', 'tagger' : '', 'parser' : ''}\n",
    "            x = requests.post(url, data = myobj)                \n",
    "            # to use 'a', the text has to be erased before!\n",
    "            with open(f\"jupiter/parsed_with_UDPipe/jup_{lang}.conllu\", \"a\") as g:\n",
    "                g.write(json.loads(x.text)['result'])"
   ]
  },
  {
   "cell_type": "code",
   "execution_count": 21,
   "id": "dc4b12af",
   "metadata": {
    "scrolled": true
   },
   "outputs": [],
   "source": [
    "# compare languages in Wikipedia with languages in UDPipe\n",
    "# models are the languages that can be used in UDPipe\n",
    "# languages are the languages in Wikipedia\n",
    "both = []\n",
    "nope = []\n",
    "models_list = list(models.keys())\n",
    "languages_list = list(languages.keys())\n",
    "for model in models_list:\n",
    "    name = ' '.join(model.split('_'))\n",
    "    if name in languages_list:\n",
    "        both.append(name)\n",
    "    else:\n",
    "        nope.append(name)"
   ]
  },
  {
   "cell_type": "code",
   "execution_count": 57,
   "id": "68b4ffd6",
   "metadata": {
    "scrolled": true
   },
   "outputs": [],
   "source": [
    "# We know that Chinese is the Wikipedia with a different name (chinese)\n",
    "# norwegian bokmaal is also in the Wikipedia with an å instead of aa\n",
    "# north sami is northern sami in the wikipedia\n",
    "# both "
   ]
  },
  {
   "cell_type": "code",
   "execution_count": 61,
   "id": "c046073e",
   "metadata": {},
   "outputs": [],
   "source": [
    "# Learning how to parse with UDpipe witjout creating extra files --> temp files\n",
    "def udparsing(url, lang, name, path, model = models[lang][0]):\n",
    "    with tempfile.TemporaryFile(mode='w+t') as tmp:\n",
    "        tmp.write(requests.get(url).text)\n",
    "        tmp.seek(0)\n",
    "        starters = ['<p>', '</p><p>', '<title>', '<h']\n",
    "        api_url = 'https://lindat.mff.cuni.cz/services/udpipe/api/process'\n",
    "        with open(f'{path}{name}.conllu', 'w') as g:\n",
    "            g.write(f'# {url}\\n\\n')\n",
    "            for alltext in tmp.readlines():\n",
    "                texto = alltext.strip('\\t')\n",
    "                if texto.startswith(tuple(starters)):\n",
    "                    cleantext = BeautifulSoup(texto, \"html.parser\").text\n",
    "                    cleantext = re.sub(r'\\[\\d+\\]', '', cleantext) # remove references [digit]\n",
    "                    cleantext = cleantext.replace(u'\\u200b', '') # remove this character\n",
    "                    if len(cleantext) != 0:\n",
    "                        myobj = {'data' : cleantext, 'model' : model,'tokenizer' : '', 'tagger' : '', 'parser' : ''}\n",
    "                        x = requests.post(api_url, data = myobj)\n",
    "                        g.write(json.loads(x.text)['result'])"
   ]
  },
  {
   "cell_type": "code",
   "execution_count": 62,
   "id": "523768a1",
   "metadata": {},
   "outputs": [],
   "source": [
    "udparsing('https://en.wikipedia.org/wiki/Russia', 'english', 'russia', './')"
   ]
  },
  {
   "cell_type": "code",
   "execution_count": 55,
   "id": "1312f5d8",
   "metadata": {},
   "outputs": [],
   "source": [
    "lang_in_states = []\n",
    "with open('testing_the_script/states.html') as f:\n",
    "    for line in f:\n",
    "        if '<ul class=\"vector-menu-content-list\"><li class=\"interlanguage-link interwiki' in line:\n",
    "            for parts in line.split(' '):\n",
    "                if parts.startswith('href='):\n",
    "                    lang_in_states.append(parts[6:-1])"
   ]
  },
  {
   "cell_type": "code",
   "execution_count": 59,
   "id": "13aae378",
   "metadata": {
    "scrolled": true
   },
   "outputs": [
    {
     "data": {
      "text/plain": [
       "'af'"
      ]
     },
     "execution_count": 59,
     "metadata": {},
     "output_type": "execute_result"
    }
   ],
   "source": [
    "lang_in_states[3].split('//')[1].split('.')[0]"
   ]
  },
  {
   "cell_type": "code",
   "execution_count": 7,
   "id": "c6671bf4",
   "metadata": {},
   "outputs": [],
   "source": [
    "import os\n",
    "link = 'wiki/United_States'\n",
    "name = link.split('/')[1]\n",
    "os.mkdir('attempt1')\n",
    "dir_path = f'attempt1/{name}/'\n",
    "os.mkdir(dir_path)"
   ]
  },
  {
   "cell_type": "markdown",
   "id": "abf2ed2f",
   "metadata": {},
   "source": [
    "### What articles do we have in which languages?"
   ]
  },
  {
   "cell_type": "code",
   "execution_count": 1,
   "id": "b0906ca3",
   "metadata": {
    "scrolled": true
   },
   "outputs": [
    {
     "name": "stdout",
     "output_type": "stream",
     "text": [
      "There are 61 directories\n",
      "\n",
      "There are 57 files in Iran.\n",
      "There are 58 files in Russia.\n",
      "There are 58 files in Italy.\n",
      "There are 58 files in United_States.\n",
      "There are 58 files in Europe.\n",
      "There are 58 files in Wikipedia.\n",
      "There are 58 files in Asia.\n",
      "There are 58 files in English_Language.\n",
      "There are 58 files in Africa.\n",
      "There are 57 files in India.\n",
      "There are 58 files in Japan.\n",
      "There are 57 files in United_Kingdom.\n",
      "There are 57 files in China.\n",
      "There are 58 files in Earth.\n",
      "There are 58 files in Sun.\n",
      "There are 57 files in Paris.\n",
      "There are 57 files in South_Africa.\n",
      "There are 58 files in Rome.\n",
      "There are 58 files in Jesus.\n",
      "There are 56 files in Bible.\n",
      "There are 57 files in Islam.\n",
      "There are 55 files in Barack_Obama.\n",
      "There are 55 files in Moon.\n",
      "There are 57 files in Iraq.\n",
      "There are 56 files in Dog.\n",
      "There are 56 files in Ghana.\n",
      "There are 56 files in Christianity.\n",
      "There are 57 files in South_America.\n",
      "There are 57 files in Water.\n",
      "There are 55 files in New_York_City.\n",
      "There are 54 files in Internet.\n",
      "There are 56 files in Association_football.\n",
      "There are 54 files in Religion.\n",
      "There are 56 files in World_War_II.\n",
      "There are 54 files in Adolf_Hitler.\n",
      "There are 56 files in Niger.\n",
      "There are 55 files in Gold.\n",
      "There are 55 files in Christmas.\n",
      "There are 54 files in Human.\n",
      "There are 54 files in Iron.\n",
      "There are 53 files in Judaism.\n",
      "There are 55 files in Buddhism.\n",
      "There are 57 files in Soviet_Union.\n",
      "There are 53 files in Periodic_table.\n",
      "There are 55 files in Silver.\n",
      "There are 54 files in Milk.\n",
      "There are 55 files in George_W._Bush.\n",
      "There are 55 files in Muhammad.\n",
      "There are 55 files in Eye.\n",
      "There are 55 files in Hinduism.\n",
      "There are 54 files in Koran.\n",
      "There are 51 files in Maize.\n",
      "There are 54 files in Mohandas_Karamchand_Gandhi.\n",
      "There are 53 files in Money.\n",
      "There are 49 files in Pope_Benedict_XVI.\n",
      "There are 52 files in Roman_Catholic_Church.\n",
      "There are 52 files in Osama_Bin_Laden.\n",
      "There are 51 files in Rice.\n",
      "There are 48 files in Pope_John_Paul_II.\n",
      "There are 54 files in Buddha.\n",
      "There are 49 files in Moses.\n"
     ]
    }
   ],
   "source": [
    "import os\n",
    "\n",
    "languages = {}\n",
    "list_of_dirs = os.listdir('data/')\n",
    "print(f'There are {len(list_of_dirs)} directories')\n",
    "print()\n",
    "\n",
    "for directory in list_of_dirs:\n",
    "    path = (f'data/{directory}')\n",
    "    files = os.listdir(path)\n",
    "    for f in files:\n",
    "        lang = f.split('-')[1].split('.')[0]\n",
    "        if lang in languages:\n",
    "            languages[lang] += 1\n",
    "        else:\n",
    "            languages[lang] = 1\n",
    "    print(f'There are {len(files)} files in {directory}.')"
   ]
  },
  {
   "cell_type": "code",
   "execution_count": 2,
   "id": "c253e988",
   "metadata": {
    "scrolled": true
   },
   "outputs": [
    {
     "data": {
      "text/plain": [
       "{'english': 61,\n",
       " 'afrikaans': 61,\n",
       " 'arabic': 61,\n",
       " 'belarusian': 61,\n",
       " 'bulgarian': 61,\n",
       " 'catalan': 61,\n",
       " 'czech': 61,\n",
       " 'welsh': 61,\n",
       " 'danish': 61,\n",
       " 'german': 61,\n",
       " 'estonian': 61,\n",
       " 'greek': 61,\n",
       " 'spanish': 61,\n",
       " 'basque': 61,\n",
       " 'persian': 61,\n",
       " 'french': 61,\n",
       " 'galician': 61,\n",
       " 'korean': 61,\n",
       " 'armenian': 61,\n",
       " 'croatian': 61,\n",
       " 'indonesian': 61,\n",
       " 'hebrew': 61,\n",
       " 'latin': 61,\n",
       " 'latvian': 61,\n",
       " 'lithuanian': 61,\n",
       " 'hungarian': 61,\n",
       " 'dutch': 61,\n",
       " 'japanese': 61,\n",
       " 'polish': 61,\n",
       " 'portuguese': 61,\n",
       " 'romanian': 61,\n",
       " 'russian': 61,\n",
       " 'slovak': 61,\n",
       " 'slovenian': 61,\n",
       " 'serbian': 61,\n",
       " 'finnish': 61,\n",
       " 'swedish': 61,\n",
       " 'tamil': 61,\n",
       " 'turkish': 61,\n",
       " 'ukrainian': 61,\n",
       " 'urdu': 61,\n",
       " 'vietnamese': 61,\n",
       " 'chinese': 61,\n",
       " 'irish': 60,\n",
       " 'hindi': 60,\n",
       " 'marathi': 60,\n",
       " 'italian': 59,\n",
       " 'kazakh': 59,\n",
       " 'telugu': 58,\n",
       " 'scottish_gaelic': 57,\n",
       " 'maltese': 50,\n",
       " 'classical_chinese': 50,\n",
       " 'sanskrit': 49,\n",
       " 'uyghur': 48,\n",
       " 'north_sami': 42,\n",
       " 'wolof': 37,\n",
       " 'gothic': 34,\n",
       " 'old_church_slavonic': 29}"
      ]
     },
     "execution_count": 2,
     "metadata": {},
     "output_type": "execute_result"
    }
   ],
   "source": [
    "{k: v for k, v in sorted(languages.items(), key=lambda item: item[1], reverse=True)}"
   ]
  },
  {
   "cell_type": "markdown",
   "id": "5f7abb9a",
   "metadata": {},
   "source": [
    "### Article lengths"
   ]
  },
  {
   "cell_type": "code",
   "execution_count": 59,
   "id": "4d0a3fb5",
   "metadata": {
    "scrolled": true
   },
   "outputs": [],
   "source": [
    "# Checking average article length\n",
    "import os\n",
    "\n",
    "article_lengths = {}\n",
    "sentences_per_article = {}\n",
    "\n",
    "for directory in list_of_dirs:\n",
    "    dir_path = f'data/{directory}'\n",
    "    files = os.listdir(dir_path)\n",
    "    for file in files:\n",
    "        lang = file.split('-')[1].split('.')[0]\n",
    "        file_path = f'data/{directory}/{file}'\n",
    "        with open(file_path, 'r') as f:\n",
    "            lines = f.readlines()\n",
    "            sentence_per_article = 0\n",
    "            for line in lines:\n",
    "                if line.startswith('# text = '):\n",
    "                    sentence_per_article += 1\n",
    "                    sentence = line[9:]\n",
    "                    if lang in article_lengths:\n",
    "                        article_lengths[lang].append(len(sentence.split(' ')))\n",
    "                    else:\n",
    "                        article_lengths[lang] = [len(sentence)]\n",
    "                        \n",
    "        if lang in sentences_per_article:\n",
    "            sentences_per_article[lang].append(sentence_per_article)\n",
    "        else:\n",
    "            sentences_per_article[lang] = [sentence_per_article]"
   ]
  },
  {
   "cell_type": "code",
   "execution_count": 68,
   "id": "8b17d3c5",
   "metadata": {},
   "outputs": [],
   "source": [
    "import numpy as np\n",
    "\n",
    "average_sent_len = {}\n",
    "total_number_sent = {}\n",
    "\n",
    "for lang, lengths in article_lengths.items():\n",
    "    average_sent_len[lang] = np.mean(lengths)\n",
    "    total_number_sent[lang] = len(lengths)"
   ]
  },
  {
   "cell_type": "code",
   "execution_count": 69,
   "id": "43ef68f4",
   "metadata": {},
   "outputs": [],
   "source": [
    "average_num_sent = {}\n",
    "for lang, num_sent in sentences_per_article.items():\n",
    "    average_num_sent[lang] = np.mean(num_sent)"
   ]
  },
  {
   "cell_type": "code",
   "execution_count": 70,
   "id": "c5274e55",
   "metadata": {},
   "outputs": [
    {
     "data": {
      "image/png": "[encoded data removed]",
      "text/plain": [
       "<Figure size 1440x360 with 1 Axes>"
      ]
     },
     "metadata": {
      "needs_background": "light"
     },
     "output_type": "display_data"
    }
   ],
   "source": [
    "import matplotlib.pyplot as plt\n",
    "\n",
    "languages_plot = list(average_sent_len.keys())\n",
    "avg_sent_len = list(average_sent_len.values())\n",
    "\n",
    "plt.bar(range(len(average_sent_len)), avg_sent_len, tick_label=languages_plot)\n",
    "plt.xticks(rotation=90)\n",
    "plt.rcParams['figure.figsize'] = [20, 5]\n",
    "plt.title('Average sentence length', fontsize=20)\n",
    "plt.show()"
   ]
  },
  {
   "cell_type": "markdown",
   "id": "84917ff5",
   "metadata": {},
   "source": [
    "Obviously, doesn't work with Japanese of Chinese."
   ]
  },
  {
   "cell_type": "code",
   "execution_count": 67,
   "id": "680b73da",
   "metadata": {},
   "outputs": [
    {
     "data": {
      "image/png": "[encoded data removed]",
      "text/plain": [
       "<Figure size 1440x360 with 1 Axes>"
      ]
     },
     "metadata": {
      "needs_background": "light"
     },
     "output_type": "display_data"
    }
   ],
   "source": [
    "import matplotlib.pyplot as plt\n",
    "\n",
    "languages_plot = list(total_number_sent.keys())\n",
    "val_number_sent = list(total_number_sent.values())\n",
    "\n",
    "plt.bar(range(len(total_number_sent)), val_number_sent, tick_label=languages_plot)\n",
    "plt.xticks(rotation=90)\n",
    "plt.rcParams['figure.figsize'] = [20, 5]\n",
    "plt.title('Total number of sentences', fontsize=20)\n",
    "plt.show()"
   ]
  },
  {
   "cell_type": "code",
   "execution_count": 71,
   "id": "b2bb60f4",
   "metadata": {},
   "outputs": [
    {
     "data": {
      "image/png": "[encoded data removed]",
      "text/plain": [
       "<Figure size 1440x360 with 1 Axes>"
      ]
     },
     "metadata": {
      "needs_background": "light"
     },
     "output_type": "display_data"
    }
   ],
   "source": [
    "import matplotlib.pyplot as plt\n",
    "\n",
    "languages_plot = list(average_num_sent.keys())\n",
    "avg_number_sent = list(average_num_sent.values())\n",
    "\n",
    "plt.bar(range(len(average_num_sent)), avg_number_sent, tick_label=languages_plot)\n",
    "plt.xticks(rotation=90)\n",
    "plt.rcParams['figure.figsize'] = [20, 5]\n",
    "plt.title('Average number of sentences', fontsize=20)\n",
    "plt.show()"
   ]
  },
  {
   "cell_type": "code",
   "execution_count": 72,
   "id": "7a5950e6",
   "metadata": {
    "scrolled": true
   },
   "outputs": [
    {
     "data": {
      "text/plain": [
       "{'vietnamese': 28.059631980274872,\n",
       " 'wolof': 27.269282814614343,\n",
       " 'spanish': 24.41189941831173,\n",
       " 'italian': 22.99617822939616,\n",
       " 'catalan': 22.47673434856176,\n",
       " 'french': 22.406483271375464,\n",
       " 'galician': 21.96680874217829,\n",
       " 'arabic': 21.943380116334918,\n",
       " 'portuguese': 21.740960604425258,\n",
       " 'urdu': 21.06387539296942,\n",
       " 'english': 20.824125521807975,\n",
       " 'romanian': 20.703338000147372,\n",
       " 'greek': 19.797558020318764,\n",
       " 'afrikaans': 19.50554596992852,\n",
       " 'hindi': 19.277982290319372,\n",
       " 'persian': 18.9119101978691,\n",
       " 'indonesian': 18.709938390690148,\n",
       " 'danish': 17.095745602634086,\n",
       " 'slovenian': 16.967668488160292,\n",
       " 'german': 16.86699211825347,\n",
       " 'serbian': 16.69940810669064,\n",
       " 'irish': 16.654391707583198,\n",
       " 'welsh': 16.551121656600518,\n",
       " 'croatian': 16.501203258052573,\n",
       " 'dutch': 16.39469389903669,\n",
       " 'russian': 16.1373290793072,\n",
       " 'czech': 15.996367033423292,\n",
       " 'polish': 15.991646906660918,\n",
       " 'swedish': 15.72818015824711,\n",
       " 'maltese': 15.66299707930802,\n",
       " 'hebrew': 15.621951219512194,\n",
       " 'bulgarian': 15.399929203539823,\n",
       " 'armenian': 15.301091508203474,\n",
       " 'ukrainian': 15.094938604372567,\n",
       " 'latin': 15.08822429906542,\n",
       " 'scottish_gaelic': 14.619718309859154,\n",
       " 'latvian': 14.251592788396367,\n",
       " 'hungarian': 14.244722682119205,\n",
       " 'slovak': 14.24167450611477,\n",
       " 'belarusian': 14.044151065901959,\n",
       " 'turkish': 13.85417494465573,\n",
       " 'korean': 13.069579519450802,\n",
       " 'lithuanian': 12.346076458752515,\n",
       " 'estonian': 12.295311134841278,\n",
       " 'basque': 12.199052963872326,\n",
       " 'uyghur': 11.724625623960067,\n",
       " 'kazakh': 11.26504329004329,\n",
       " 'finnish': 11.239737002044311,\n",
       " 'tamil': 11.017669376693767,\n",
       " 'gothic': 10.824915824915825,\n",
       " 'marathi': 10.395042492917847,\n",
       " 'telugu': 9.507762753094369,\n",
       " 'north_sami': 8.137323943661972,\n",
       " 'old_church_slavonic': 5.521377672209026,\n",
       " 'sanskrit': 3.4986225895316805,\n",
       " 'chinese': 1.20287558685446,\n",
       " 'japanese': 1.1780222636115563,\n",
       " 'classical_chinese': 1.020190953200814}"
      ]
     },
     "execution_count": 72,
     "metadata": {},
     "output_type": "execute_result"
    }
   ],
   "source": [
    "{k: v for k, v in sorted(average_sent_len.items(), key=lambda item: item[1], reverse=True)}"
   ]
  },
  {
   "cell_type": "code",
   "execution_count": 74,
   "id": "b9eec3d1",
   "metadata": {
    "scrolled": true
   },
   "outputs": [
    {
     "data": {
      "text/plain": [
       "{'german': 36667,\n",
       " 'english': 34735,\n",
       " 'french': 33625,\n",
       " 'japanese': 23087,\n",
       " 'italian': 22241,\n",
       " 'portuguese': 22236,\n",
       " 'russian': 21940,\n",
       " 'vietnamese': 21901,\n",
       " 'spanish': 21833,\n",
       " 'hungarian': 19328,\n",
       " 'czech': 19268,\n",
       " 'dutch': 18997,\n",
       " 'arabic': 18739,\n",
       " 'polish': 18556,\n",
       " 'finnish': 18099,\n",
       " 'turkish': 17617,\n",
       " 'chinese': 17040,\n",
       " 'ukrainian': 16695,\n",
       " 'catalan': 16548,\n",
       " 'swedish': 16430,\n",
       " 'indonesian': 16069,\n",
       " 'persian': 15768,\n",
       " 'armenian': 14567,\n",
       " 'bulgarian': 14125,\n",
       " 'korean': 13984,\n",
       " 'telugu': 13977,\n",
       " 'romanian': 13571,\n",
       " 'serbian': 13347,\n",
       " 'hebrew': 12956,\n",
       " 'afrikaans': 12171,\n",
       " 'danish': 11541,\n",
       " 'basque': 11404,\n",
       " 'galician': 11027,\n",
       " 'slovenian': 10980,\n",
       " 'croatian': 10804,\n",
       " 'greek': 10729,\n",
       " 'slovak': 10630,\n",
       " 'estonian': 10301,\n",
       " 'hindi': 10051,\n",
       " 'belarusian': 9241,\n",
       " 'kazakh': 9240,\n",
       " 'tamil': 9225,\n",
       " 'sanskrit': 7986,\n",
       " 'lithuanian': 7455,\n",
       " 'latvian': 7377,\n",
       " 'marathi': 7060,\n",
       " 'urdu': 6998,\n",
       " 'classical_chinese': 6389,\n",
       " 'latin': 5350,\n",
       " 'welsh': 4636,\n",
       " 'maltese': 4451,\n",
       " 'irish': 3666,\n",
       " 'uyghur': 3606,\n",
       " 'old_church_slavonic': 842,\n",
       " 'scottish_gaelic': 781,\n",
       " 'wolof': 739,\n",
       " 'north_sami': 568,\n",
       " 'gothic': 297}"
      ]
     },
     "execution_count": 74,
     "metadata": {},
     "output_type": "execute_result"
    }
   ],
   "source": [
    "{k: v for k, v in sorted(total_number_sent.items(), key=lambda item: item[1], reverse=True)}"
   ]
  },
  {
   "cell_type": "code",
   "execution_count": 75,
   "id": "e20a74a5",
   "metadata": {
    "scrolled": true
   },
   "outputs": [
    {
     "data": {
      "text/plain": [
       "{'german': 601.0983606557377,\n",
       " 'english': 569.4262295081967,\n",
       " 'french': 551.2295081967213,\n",
       " 'japanese': 378.4754098360656,\n",
       " 'italian': 376.96610169491527,\n",
       " 'portuguese': 364.5245901639344,\n",
       " 'russian': 359.672131147541,\n",
       " 'vietnamese': 359.0327868852459,\n",
       " 'spanish': 357.91803278688525,\n",
       " 'hungarian': 316.8524590163934,\n",
       " 'czech': 315.8688524590164,\n",
       " 'dutch': 311.42622950819674,\n",
       " 'arabic': 307.1967213114754,\n",
       " 'polish': 304.1967213114754,\n",
       " 'finnish': 296.7049180327869,\n",
       " 'turkish': 288.8032786885246,\n",
       " 'chinese': 279.344262295082,\n",
       " 'ukrainian': 273.6885245901639,\n",
       " 'catalan': 271.27868852459017,\n",
       " 'swedish': 269.344262295082,\n",
       " 'indonesian': 263.42622950819674,\n",
       " 'persian': 258.4918032786885,\n",
       " 'telugu': 240.98275862068965,\n",
       " 'armenian': 238.80327868852459,\n",
       " 'bulgarian': 231.55737704918033,\n",
       " 'korean': 229.24590163934425,\n",
       " 'romanian': 222.47540983606558,\n",
       " 'serbian': 218.80327868852459,\n",
       " 'hebrew': 212.39344262295083,\n",
       " 'afrikaans': 199.52459016393442,\n",
       " 'danish': 189.19672131147541,\n",
       " 'basque': 186.95081967213116,\n",
       " 'galician': 180.7704918032787,\n",
       " 'slovenian': 180.0,\n",
       " 'croatian': 177.11475409836066,\n",
       " 'greek': 175.88524590163934,\n",
       " 'slovak': 174.2622950819672,\n",
       " 'estonian': 168.86885245901638,\n",
       " 'hindi': 167.51666666666668,\n",
       " 'sanskrit': 162.9795918367347,\n",
       " 'kazakh': 156.61016949152543,\n",
       " 'belarusian': 151.49180327868854,\n",
       " 'tamil': 151.2295081967213,\n",
       " 'classical_chinese': 127.78,\n",
       " 'lithuanian': 122.21311475409836,\n",
       " 'latvian': 120.93442622950819,\n",
       " 'marathi': 117.66666666666667,\n",
       " 'urdu': 114.72131147540983,\n",
       " 'maltese': 89.02,\n",
       " 'latin': 87.70491803278688,\n",
       " 'welsh': 76.0,\n",
       " 'uyghur': 75.125,\n",
       " 'irish': 61.1,\n",
       " 'old_church_slavonic': 29.03448275862069,\n",
       " 'wolof': 19.972972972972972,\n",
       " 'scottish_gaelic': 13.701754385964913,\n",
       " 'north_sami': 13.523809523809524,\n",
       " 'gothic': 8.735294117647058}"
      ]
     },
     "execution_count": 75,
     "metadata": {},
     "output_type": "execute_result"
    }
   ],
   "source": [
    "{k: v for k, v in sorted(average_num_sent.items(), key=lambda item: item[1], reverse=True)}"
   ]
  },
  {
   "cell_type": "markdown",
   "id": "eea7ad49",
   "metadata": {},
   "source": [
    "### Looking for square brackets\n",
    "\n",
    "To see whether we should keep them or not. Update: we keep most of them!"
   ]
  },
  {
   "cell_type": "code",
   "execution_count": 32,
   "id": "cb79c4ed",
   "metadata": {},
   "outputs": [],
   "source": [
    "def find_brac(lang):\n",
    "    dictionary = {}\n",
    "    with open('testing_scripts/square_brakets.txt', encoding=\"utf-8\") as f:\n",
    "        for line in f.readlines():\n",
    "            if line.startswith(lang):\n",
    "                res = re.findall('(\\[.*?\\])', line)\n",
    "                for brac in res:\n",
    "                    if brac in dictionary:\n",
    "                        dictionary[brac] += 1\n",
    "                    else:\n",
    "                        dictionary[brac] = 1\n",
    "    return dictionary"
   ]
  },
  {
   "cell_type": "code",
   "execution_count": 42,
   "id": "042b88df",
   "metadata": {},
   "outputs": [],
   "source": [
    "brackets_eng = find_brac('english')\n",
    "brackets_esp = find_brac('spanish')\n",
    "brackets_cat = find_brac('catalan')\n",
    "brackets_fr = find_brac('french')\n",
    "brackets_fin = find_brac('finnish')"
   ]
  },
  {
   "cell_type": "code",
   "execution_count": 36,
   "id": "bfab3b61",
   "metadata": {},
   "outputs": [
    {
     "data": {
      "text/plain": [
       "{'[citation needed]': 157,\n",
       " '[update]': 124,\n",
       " '[page\\xa0needed]': 23,\n",
       " '[better\\xa0source\\xa0needed]': 20,\n",
       " '[clarification needed]': 16,\n",
       " '[needs update]': 10,\n",
       " '[when?]': 9,\n",
       " '[unreliable source?]': 9,\n",
       " '[...]': 7,\n",
       " '[who?]': 7,\n",
       " '[…]': 7,\n",
       " '[failed verification]': 6,\n",
       " '[Ar]': 6,\n",
       " '[verification needed]': 5,\n",
       " '[Ne]': 5,\n",
       " '[Fe(CN)6]': 4,\n",
       " '[s]': 3,\n",
       " '[d]': 3,\n",
       " '[incomplete short citation]': 3,\n",
       " '[by whom?]': 3,\n",
       " '[which?]': 3,\n",
       " '[and]': 3,\n",
       " '[ʔiːˈɾɒːn]': 2,\n",
       " '[231]': 2,\n",
       " '[t]': 2,\n",
       " '[which]': 2,\n",
       " '[w]': 2,\n",
       " '[T]': 2,\n",
       " '[de]': 2,\n",
       " '[ing]': 2,\n",
       " '[excessive citations]': 2,\n",
       " '[neutrality is disputed]': 2,\n",
       " '[ref]': 2,\n",
       " '[ru]': 2,\n",
       " '[ɹ]': 2,\n",
       " '[Fe(H2O)6]': 2,\n",
       " '[Fe(NH3)6]': 2,\n",
       " '[AgF4]': 2,\n",
       " '[Ag(NH3)2]': 2,\n",
       " '[need quotation to verify]': 2,\n",
       " '[rɐˈsʲijə]': 1,\n",
       " '[roˈsia]': 1,\n",
       " '[iˈtaːlja]': 1,\n",
       " '[reˈpubblika itaˈljaːna]': 1,\n",
       " '[dubious  – discuss]': 1,\n",
       " '[circular reference]': 1,\n",
       " '[239]': 1,\n",
       " '[any further]': 1,\n",
       " '[p]': 1,\n",
       " '[I]': 1,\n",
       " '[vague]': 1,\n",
       " '[pʰ]': 1,\n",
       " '[p̚]': 1,\n",
       " '[ʔp]': 1,\n",
       " '[nɪˑb̥]': 1,\n",
       " '[l]': 1,\n",
       " '[ɫ]': 1,\n",
       " '[niːd]': 1,\n",
       " '[bɪd]': 1,\n",
       " '[rɪtʃ]': 1,\n",
       " '[nit]': 1,\n",
       " '[seɪ̯f]': 1,\n",
       " '[rɪˑdʒ]': 1,\n",
       " '[niˑd]': 1,\n",
       " '[seˑɪ̯v]': 1,\n",
       " '[laɪ̯t]': 1,\n",
       " '[laˑɪ̯]': 1,\n",
       " '[ɚ]': 1,\n",
       " '[ˈfɚðɚ]': 1,\n",
       " '[ˈfəːðə]': 1,\n",
       " '[ʍ]': 1,\n",
       " '[feminine]': 1,\n",
       " '[neuter]': 1,\n",
       " '[masculine]': 1,\n",
       " '[pɪn]': 1,\n",
       " '[pʰɪn]': 1,\n",
       " '[ɾ]': 1,\n",
       " '[eː]': 1,\n",
       " '[oː]': 1,\n",
       " '[ie]': 1,\n",
       " '[uo]': 1,\n",
       " '[bʲeː]': 1,\n",
       " '[bʷoːt]': 1,\n",
       " '[t͡ʃail]': 1,\n",
       " '[win]': 1,\n",
       " '[ʈ]': 1,\n",
       " '[ɖ]': 1,\n",
       " '[t̪]': 1,\n",
       " '[d̪]': 1,\n",
       " '[ɡʱ]': 1,\n",
       " '[ˈbʱaːɾət]': 1,\n",
       " '[ɦɪndʊˈstaːn]': 1,\n",
       " '[The]': 1,\n",
       " '[improper synthesis?]': 1,\n",
       " '[ɡâi̯.a]': 1,\n",
       " '[ɡâj.ja]': 1,\n",
       " '[paʁi]': 1,\n",
       " '[panam]': 1,\n",
       " '[paʁizjɛ̃]': 1,\n",
       " '[paʁiɡo]': 1,\n",
       " '[ˈroːma]': 1,\n",
       " \"[father's name]\": 1,\n",
       " '[timeframe?]': 1,\n",
       " '[to God]': 1,\n",
       " '[duˈʕæːʔ]': 1,\n",
       " '[in the way of God]': 1,\n",
       " '[or]': 1,\n",
       " '[example  needed]': 1,\n",
       " '[ʕiˈrɑːq]': 1,\n",
       " '[specify]': 1,\n",
       " '[the Eucharist]': 1,\n",
       " '[further explanation needed]': 1,\n",
       " '[pɑək]': 1,\n",
       " '[pɒək]': 1,\n",
       " '[bʌɾə]': 1,\n",
       " '[hiə]': 1,\n",
       " '[ɔ]': 1,\n",
       " '[ɔr]': 1,\n",
       " '[ɜɪ]': 1,\n",
       " '[disputed  – discuss]': 1,\n",
       " '[1894]': 1,\n",
       " '[has]': 1,\n",
       " '[ˈad.ɔlf ˈhɪt.lɐ]': 1,\n",
       " '[in World War I]': 1,\n",
       " '[do]': 1,\n",
       " '[niʒɛʁ]': 1,\n",
       " '[[West Africa]': 1,\n",
       " '[Au(CH2)2P(C6H5)2]': 1,\n",
       " '[AuXe4]': 1,\n",
       " '[the Egyptian month]': 1,\n",
       " '[May 20]': 1,\n",
       " '[April 20 or 21]': 1,\n",
       " '[that]': 1,\n",
       " '[25 December]': 1,\n",
       " '[SiO4]': 1,\n",
       " '[SiO3]': 1,\n",
       " '[FeO4]': 1,\n",
       " '[CN]': 1,\n",
       " '[FeCl6]': 1,\n",
       " '[FeF5(H2O)]': 1,\n",
       " '[FeCl4]': 1,\n",
       " '[FeBr4]': 1,\n",
       " '[FeI4]': 1,\n",
       " '[Fe(SCN)(H2O)5]': 1,\n",
       " '[Judeans]': 1,\n",
       " '[Ioudaïsmós]': 1,\n",
       " '[the non-Jewish husband]': 1,\n",
       " '[Asian]': 1,\n",
       " '[places]': 1,\n",
       " '[Kr]': 1,\n",
       " '[Xe]': 1,\n",
       " '[Ag(IO5OH)2]': 1,\n",
       " '[Ag{TeO4(OH)2}2]': 1,\n",
       " '[Ag(py)4]': 1,\n",
       " '[Ag(bipy)2]': 1,\n",
       " '[Ag(H2O)4]': 1,\n",
       " '[Ag(S2O3)2]': 1,\n",
       " '[Ag(CN)2]': 1,\n",
       " '[Ag(L–L)2]': 1,\n",
       " '[Ag(CO)]': 1,\n",
       " '[B(OTeF5)4]': 1,\n",
       " '[serebró]': 1,\n",
       " '[clarify]': 1,\n",
       " '[preventing]': 1,\n",
       " '[muˈħammad]': 1,\n",
       " '[of God]': 1,\n",
       " '[Quran\\xa02:119]': 1,\n",
       " '[Quran\\xa033:45]': 1,\n",
       " '[Quran\\xa011:2]': 1,\n",
       " '[Quran\\xa088:21]': 1,\n",
       " '[unto God]': 1,\n",
       " '[Quran\\xa012:108]': 1,\n",
       " '[Quran\\xa005:15]': 1,\n",
       " '[Quran\\xa033:46]': 1,\n",
       " '[not only]': 1,\n",
       " '[bright, luminous]': 1,\n",
       " '[a]': 1,\n",
       " '[i]': 1,\n",
       " '[Vedas]': 1,\n",
       " '[Hindus]': 1,\n",
       " '[or herself]': 1,\n",
       " '[ting]': 1,\n",
       " '[S]': 1,\n",
       " '[alqurˈʔaːn]': 1,\n",
       " '[by Muhammad]': 1,\n",
       " '[additional citation(s) needed]': 1,\n",
       " '[maize]': 1,\n",
       " '[5600 BC]': 1,\n",
       " '[5000–4000 BC]': 1,\n",
       " '[Mapuche]': 1,\n",
       " '[long bamboo sticks]': 1,\n",
       " '[British India]': 1,\n",
       " '[ˈjoːzɛf ʔaˈlɔʏzi̯ʊs ˈʁatsɪŋɐ]': 1,\n",
       " '[full citation needed]': 1,\n",
       " '[over the years]': 1,\n",
       " '[in the reader]': 1,\n",
       " \"[Christianity's]\": 1,\n",
       " '[A]': 1,\n",
       " '[Jews]': 1,\n",
       " '[Ratzinger]': 1,\n",
       " '[without respect of persons]': 1,\n",
       " '[Ustaše]': 1,\n",
       " '[from whom?]': 1,\n",
       " '[the individual he was asked about]': 1,\n",
       " '[bin Laden]': 1,\n",
       " '[where?]': 1,\n",
       " '[ˈkarɔl\\xa0ˈjuzɛv\\xa0vɔjˈtɨwa]': 1,\n",
       " '[sic]': 1,\n",
       " \"[deliberately mispronouncing the word 'correct']\": 1,\n",
       " '[both applicable and faithful]': 1,\n",
       " '[Make him a]': 1,\n",
       " '[pl]': 1,\n",
       " \"[the Vatican's]\": 1,\n",
       " '[aplicables i fidels]': 1,\n",
       " '[tɐˈtʰaːɡɐtɐ]': 1,\n",
       " \"[the Buddha's]\": 1,\n",
       " '[the shared teaching of the early schools]': 1,\n",
       " '[Moses]': 1,\n",
       " '[Jethro]': 1,\n",
       " '[said he]': 1,\n",
       " '[Yahweh]': 1,\n",
       " '[another Canaanite God]': 1}"
      ]
     },
     "execution_count": 36,
     "metadata": {},
     "output_type": "execute_result"
    }
   ],
   "source": [
    "{k: v for k, v in sorted(brackets_eng.items(), key=lambda item: item[1], reverse=True)}\n",
    "# {k: v for k, v in sorted(brackets_esp.items(), key=lambda item: item[1], reverse=True)}\n",
    "# {k: v for k, v in sorted(brackets_cat.items(), key=lambda item: item[1], reverse=True)}\n",
    "# {k: v for k, v in sorted(brackets_fr.items(), key=lambda item: item[1], reverse=True)}\n",
    "# {k: v for k, v in sorted(brackets_fin.items(), key=lambda item: item[1], reverse=True)}"
   ]
  }
 ],
 "metadata": {
  "kernelspec": {
   "display_name": "Python 3 (ipykernel)",
   "language": "python",
   "name": "python3"
  },
  "language_info": {
   "codemirror_mode": {
    "name": "ipython",
    "version": 3
   },
   "file_extension": ".py",
   "mimetype": "text/x-python",
   "name": "python",
   "nbconvert_exporter": "python",
   "pygments_lexer": "ipython3",
   "version": "3.9.10"
  }
 },
 "nbformat": 4,
 "nbformat_minor": 5
}
