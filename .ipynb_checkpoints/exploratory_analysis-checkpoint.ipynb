{
 "cells": [
  {
   "cell_type": "markdown",
   "id": "d5f2928c",
   "metadata": {},
   "source": [
    "                                                                                        Patricia Grau Francitorra\n",
    "# Exploratory article analysis\n",
    "## Objective\n",
    "1. Get data from Wikipedia - analyse html format\n",
    "2. UD tagging\n",
    "3. Treebanks\n",
    "4. Comparison\n",
    "  - Problem: lining up data with same information.\n",
    "    - Some files have a line for explanation: see first line of french article.\n",
    "    - Info in two sentences contained in one; see French article.\n",
    "    - Some articles do not even have the same sections."
   ]
  },
  {
   "cell_type": "code",
   "execution_count": 1,
   "id": "62ee1dc7",
   "metadata": {},
   "outputs": [],
   "source": [
    "import re\n",
    "import requests\n",
    "import json\n",
    "import tempfile\n",
    "from bs4 import BeautifulSoup\n",
    "# format is shift alt f (in VSC)"
   ]
  },
  {
   "cell_type": "markdown",
   "id": "0e0fc539",
   "metadata": {},
   "source": [
    "### 1. Get data from Wikipedia"
   ]
  },
  {
   "cell_type": "code",
   "execution_count": 24,
   "id": "875fcbd2",
   "metadata": {},
   "outputs": [
    {
     "data": {
      "text/plain": [
       "['https://en.wikipedia.org/wiki/Jupiter',\n",
       " 'https://sv.wikipedia.org/wiki/Jupiter',\n",
       " 'https://ca.wikipedia.org/wiki/Jupiter',\n",
       " 'https://es.wikipedia.org/wiki/Jupiter',\n",
       " 'https://fr.wikipedia.org/wiki/Jupiter']"
      ]
     },
     "execution_count": 24,
     "metadata": {},
     "output_type": "execute_result"
    }
   ],
   "source": [
    "# Neat idea, but doesn't work with disambiguating urls, such as Jupiter\n",
    "list_of_langs = ['en','sv' , 'ca', 'es', 'fr']\n",
    "list_of_urls = [f'https://{lang}.wikipedia.org/wiki/Jupiter' for lang in list_of_langs]\n",
    "list_of_urls"
   ]
  },
  {
   "cell_type": "code",
   "execution_count": 3,
   "id": "1ab06e63",
   "metadata": {},
   "outputs": [],
   "source": [
    "eng_jup_url = 'https://en.wikipedia.org/wiki/Jupiter'\n",
    "sv_jup_url = 'https://sv.wikipedia.org/wiki/Jupiter'\n",
    "fr_jup_url = 'https://fr.wikipedia.org/wiki/Jupiter_(planète)' # disambiguation issue\n",
    "spa_jup_url = 'https://es.wikipedia.org/wiki/Júpiter_(planeta)' # disambiguation issue\n",
    "ca_jup_url = 'https://ca.wikipedia.org/wiki/Júpiter_(planeta)' # disambiguation issue"
   ]
  },
  {
   "cell_type": "code",
   "execution_count": 31,
   "id": "ef807164",
   "metadata": {
    "scrolled": true
   },
   "outputs": [],
   "source": [
    "with open('jupiter/html_files/jupiter_en.html', 'w') as f:\n",
    "    f.write(requests.get(url = eng_jup_url).text)\n",
    "with open('jupiter/html_files/jupiter_spa.html', 'w') as g:\n",
    "    g.write(requests.get(url = spa_jup_url).text)\n",
    "with open('jupiter/html_files/jupiter_fr.html', 'w') as g:\n",
    "    g.write(requests.get(url = fr_jup_url).text)"
   ]
  },
  {
   "cell_type": "code",
   "execution_count": 6,
   "id": "07a013b4",
   "metadata": {
    "scrolled": true
   },
   "outputs": [],
   "source": [
    "# r = requests.get(url = eng_jup_url)\n",
    "\n",
    "# r = requests.get(eng_jup_url)\n",
    "# data = r.json()\n",
    "# starters = ['<p>', '</p><p>', '<title>', '<h']\n",
    "# for alltext in r: #data:\n",
    "#     texto = alltext.strip('\\t')\n",
    "#     if texto.startswith(tuple(starters)):# ('<p>') or texto.startswith('</p><p>'): # if '<p>' in texto or '</p>' in texto:\n",
    "#         cleantext = BeautifulSoup(texto, \"html.parser\").text # when using \"lxml\" as the parser insead of html.parser, some paragraphs/lines are missing\n",
    "#         cleantext = re.sub(r'\\[\\d+\\]', '', cleantext) # remove references [digit]\n",
    "#         cleantext = cleantext.strip()\n",
    "#         if len(cleantext) != 0:\n",
    "#             print(cleantext)\n",
    "#             print()"
   ]
  },
  {
   "cell_type": "code",
   "execution_count": 59,
   "id": "abb12608",
   "metadata": {},
   "outputs": [],
   "source": [
    "r = requests.post(url= eng_jup_url)\n",
    "starters = ['<p>', '</p><p>', '<title>', '<h']\n",
    "import tempfile\n",
    "\n",
    "temp = tempfile.TemporaryFile(mode='w+t')\n",
    "\n",
    "try:\n",
    "    temp.writelines(r.text)\n",
    "    \n",
    "    for alltext in temp:\n",
    "        print(alltext)\n",
    "        texto = alltext.strip('\\t')\n",
    "        if texto.startswith(tuple(starters)):# ('<p>') or texto.startswith('</p><p>'): # if '<p>' in texto or '</p>' in texto:\n",
    "            cleantext = BeautifulSoup(texto, \"html.parser\").text # when using \"lxml\" as the parser insead of html.parser, some paragraphs/lines are missing\n",
    "            cleantext = re.sub(r'\\[\\d+\\]', '', cleantext) # remove references [digit]\n",
    "            cleantext = cleantext.strip()\n",
    "            if len(cleantext) != 0:\n",
    "                print(cleantext)\n",
    "                print()\n",
    "finally:\n",
    "    temp.close()"
   ]
  },
  {
   "cell_type": "code",
   "execution_count": 32,
   "id": "6114f902",
   "metadata": {
    "scrolled": true
   },
   "outputs": [],
   "source": [
    "def print_cleantext(file):\n",
    "    starters = ['<p>', '</p><p>', '<title>', '<h']\n",
    "    f = open(file)\n",
    "    # print(f.readlines())\n",
    "    for alltext in f.readlines():\n",
    "        texto = alltext.strip('\\t')\n",
    "        if texto.startswith(tuple(starters)):# ('<p>') or texto.startswith('</p><p>'): # if '<p>' in texto or '</p>' in texto:\n",
    "            cleantext = BeautifulSoup(texto, \"html.parser\").text # when using \"lxml\" as the parser insead of html.parser, some paragraphs/lines are missing\n",
    "            cleantext = re.sub(r'\\[\\d+\\]', '', cleantext) # remove references [digit]\n",
    "            cleantext = cleantext.strip()\n",
    "            if len(cleantext) != 0:\n",
    "                print(cleantext)\n",
    "                print()\n",
    "    f.close()"
   ]
  },
  {
   "cell_type": "code",
   "execution_count": 10,
   "id": "061b8d37",
   "metadata": {},
   "outputs": [],
   "source": [
    "#print_cleantext('jupiter/html_files/jupiter_en.html')"
   ]
  },
  {
   "cell_type": "code",
   "execution_count": 34,
   "id": "c24932f7",
   "metadata": {
    "scrolled": true
   },
   "outputs": [],
   "source": [
    "def save_cleantext(readfile, writefile):\n",
    "    starters = ['<p>', '</p><p>', '<title>', '<h']\n",
    "    f = open(readfile)\n",
    "    with open(writefile, 'w') as g:\n",
    "        for alltext in f.readlines():\n",
    "            texto = alltext.strip('\\t')\n",
    "            if texto.startswith(tuple(starters)):\n",
    "#             if texto.startswith('<p>') or texto.startswith('</p><p>'): # if '<p>' in texto or '</p>' in texto:\n",
    "                cleantext = BeautifulSoup(texto, \"html.parser\").text # when using \"lxml\" as the parser insead of html.parser, some paragraphs/lines are missing\n",
    "                cleantext = re.sub(r'\\[\\d+\\]', '', cleantext) # remove references [digit]\n",
    "                cleantext = cleantext.strip()\n",
    "                cleantext = cleantext.replace(u'\\u200b', '')\n",
    "                if len(cleantext) != 0:\n",
    "                    g.write(cleantext + '\\n')\n",
    "    f.close()"
   ]
  },
  {
   "cell_type": "code",
   "execution_count": 35,
   "id": "86251c2a",
   "metadata": {},
   "outputs": [],
   "source": [
    "save_cleantext('jupiter/html_files/jupiter_en.html', 'jupiter/cleantext/clean_jupiter_en.txt')\n",
    "save_cleantext('jupiter/html_files/jupiter_spa.html', 'jupiter/cleantext/clean_jupiter_spa.txt')\n",
    "save_cleantext('jupiter/html_files/jupiter_fr.html', 'jupiter/cleantext/clean_jupiter_fr.txt')"
   ]
  },
  {
   "cell_type": "markdown",
   "id": "ad48dae9",
   "metadata": {},
   "source": [
    "#### 1.2 Languages in the Wikipedia"
   ]
  },
  {
   "cell_type": "code",
   "execution_count": 18,
   "id": "e2fcb3ca",
   "metadata": {},
   "outputs": [],
   "source": [
    "def get_wiki_lang_codes():\n",
    "    \"\"\"\n",
    "    Retrieves the language codes in Wikipedia\n",
    "    Returns:\n",
    "      - langugages: a dictionary containing\n",
    "        the language code as the key and the\n",
    "        language as the value.\n",
    "    \"\"\"\n",
    "    url_languages = 'https://meta.wikimedia.org/wiki/List_of_Wikipedias'\n",
    "    with tempfile.TemporaryFile(mode='w+t') as tmp:\n",
    "        tmp.write(requests.get(url_languages).text)\n",
    "        tmp.seek(0)\n",
    "        languages = {}\n",
    "        n = 0\n",
    "        l = []\n",
    "        for i, alltext in enumerate(tmp.readlines()):\n",
    "            if i < 165 or i > 8484:\n",
    "                continue\n",
    "            if alltext.startswith('<td>'):\n",
    "                texto = alltext.strip('\\t')\n",
    "                cleantext = BeautifulSoup(texto, \"html.parser\").text # when using \"lxml\" as the parser insead of html.parser, some paragraphs/lines are missing\n",
    "#                 cleantext = re.sub(r'\\[\\d+\\]', '', cleantext) # remove references [digit]\n",
    "#                 cleantext = re.sub('[()]', '', cleantext) # remove parenthesis\n",
    "                cleantext = cleantext.strip()\n",
    "                if len(cleantext) != 0:\n",
    "                    if str(n).endswith('1'):\n",
    "                        l.append(cleantext.lower())\n",
    "                    elif str(n).endswith('2'):\n",
    "                        if l[0] == 'norwegian bokmål':\n",
    "                            l[0] = 'norwegian bokmaal'\n",
    "                        elif l[0] == 'northern sami':\n",
    "                            l[0] = 'north sami'\n",
    "#                         languages[cleantext] = l[0]\n",
    "                        languages[l[0]] = cleantext # other way around\n",
    "                    else:\n",
    "                        l = []\n",
    "                    n += 1\n",
    "    return languages"
   ]
  },
  {
   "cell_type": "code",
   "execution_count": 19,
   "id": "546297a6",
   "metadata": {},
   "outputs": [],
   "source": [
    "languages = get_wiki_lang_codes()"
   ]
  },
  {
   "cell_type": "code",
   "execution_count": 54,
   "id": "813ec7d8",
   "metadata": {},
   "outputs": [
    {
     "data": {
      "text/plain": [
       "{'en': 'english',\n",
       " 'ceb': 'cebuano',\n",
       " 'de': 'german',\n",
       " 'sv': 'swedish',\n",
       " 'fr': 'french',\n",
       " 'nl': 'dutch',\n",
       " 'ru': 'russian',\n",
       " 'es': 'spanish',\n",
       " 'it': 'italian',\n",
       " 'arz': 'egyptian arabic',\n",
       " 'pl': 'polish',\n",
       " 'ja': 'japanese',\n",
       " 'vi': 'vietnamese',\n",
       " 'war': 'waray-waray',\n",
       " 'zh': 'chinese',\n",
       " 'ar': 'arabic',\n",
       " 'uk': 'ukrainian',\n",
       " 'pt': 'portuguese',\n",
       " 'fa': 'persian',\n",
       " 'ca': 'catalan',\n",
       " 'sr': 'serbian',\n",
       " 'id': 'indonesian',\n",
       " 'no': 'norwegian (bokmål)',\n",
       " 'ko': 'korean',\n",
       " 'fi': 'finnish',\n",
       " 'hu': 'hungarian',\n",
       " 'cs': 'czech',\n",
       " 'tr': 'turkish',\n",
       " 'ce': 'chechen',\n",
       " 'sh': 'serbo-croatian',\n",
       " 'zh-min-nan': 'min nan',\n",
       " 'ro': 'romanian',\n",
       " 'tt': 'tatar',\n",
       " 'eu': 'basque',\n",
       " 'ms': 'malay',\n",
       " 'eo': 'esperanto',\n",
       " 'he': 'hebrew',\n",
       " 'hy': 'armenian',\n",
       " 'bg': 'bulgarian',\n",
       " 'da': 'danish',\n",
       " 'azb': 'south azerbaijani',\n",
       " 'sk': 'slovak',\n",
       " 'kk': 'kazakh',\n",
       " 'et': 'estonian',\n",
       " 'min': 'minangkabau',\n",
       " 'be': 'belarusian',\n",
       " 'hr': 'croatian',\n",
       " 'el': 'greek',\n",
       " 'simple': 'simple english',\n",
       " 'lt': 'lithuanian',\n",
       " 'az': 'azerbaijani',\n",
       " 'gl': 'galician',\n",
       " 'sl': 'slovenian',\n",
       " 'ur': 'urdu',\n",
       " 'nn': 'norwegian (nynorsk)',\n",
       " 'ka': 'georgian',\n",
       " 'hi': 'hindi',\n",
       " 'th': 'thai',\n",
       " 'ta': 'tamil',\n",
       " 'uz': 'uzbek',\n",
       " 'la': 'latin',\n",
       " 'cy': 'welsh',\n",
       " 'ast': 'asturian',\n",
       " 'vo': 'volapük',\n",
       " 'mk': 'macedonian',\n",
       " 'zh-yue': 'cantonese',\n",
       " 'bn': 'bengali',\n",
       " 'lv': 'latvian',\n",
       " 'tg': 'tajik',\n",
       " 'my': 'burmese',\n",
       " 'af': 'afrikaans',\n",
       " 'mg': 'malagasy',\n",
       " 'bs': 'bosnian',\n",
       " 'oc': 'occitan',\n",
       " 'sq': 'albanian',\n",
       " 'nds': 'low saxon',\n",
       " 'mr': 'marathi',\n",
       " 'ky': 'kyrgyz',\n",
       " 'ml': 'malayalam',\n",
       " 'be-tarask': 'belarusian (taraškievica)',\n",
       " 'te': 'telugu',\n",
       " 'new': 'newar',\n",
       " 'br': 'breton',\n",
       " 'sw': 'swahili',\n",
       " 'vec': 'venetian',\n",
       " 'pms': 'piedmontese',\n",
       " 'jv': 'javanese',\n",
       " 'pnb': 'western punjabi',\n",
       " 'ht': 'haitian',\n",
       " 'su': 'sundanese',\n",
       " 'lb': 'luxembourgish',\n",
       " 'ba': 'bashkir',\n",
       " 'ga': 'irish',\n",
       " 'szl': 'silesian',\n",
       " 'is': 'icelandic',\n",
       " 'ku': 'kurdish',\n",
       " 'lmo': 'lombard',\n",
       " 'cv': 'chuvash',\n",
       " 'fy': 'west frisian',\n",
       " 'tl': 'tagalog',\n",
       " 'wuu': 'wu',\n",
       " 'an': 'aragonese',\n",
       " 'sco': 'scots',\n",
       " 'diq': 'zazaki',\n",
       " 'ckb': 'sorani',\n",
       " 'pa': 'punjabi',\n",
       " 'yo': 'yoruba',\n",
       " 'ne': 'nepali',\n",
       " 'bar': 'bavarian',\n",
       " 'io': 'ido',\n",
       " 'gu': 'gujarati',\n",
       " 'als': 'alemannic',\n",
       " 'kn': 'kannada',\n",
       " 'scn': 'sicilian',\n",
       " 'bpy': 'bishnupriya manipuri',\n",
       " 'ia': 'interlingua',\n",
       " 'qu': 'quechua',\n",
       " 'mn': 'mongolian',\n",
       " 'avk': 'kotava',\n",
       " 'nv': 'navajo',\n",
       " 'xmf': 'mingrelian',\n",
       " 'si': 'sinhalese',\n",
       " 'bat-smg': 'samogitian',\n",
       " 'crh': 'crimean tatar',\n",
       " 'or': 'oriya',\n",
       " 'gd': 'scottish gaelic',\n",
       " 'cdo': 'min dong',\n",
       " 'ilo': 'ilokano',\n",
       " 'yi': 'yiddish',\n",
       " 'os': 'ossetian',\n",
       " 'frr': 'north frisian',\n",
       " 'am': 'amharic',\n",
       " 'sd': 'sindhi',\n",
       " 'bug': 'buginese',\n",
       " 'nap': 'neapolitan',\n",
       " 'ha': 'hausa',\n",
       " 'sah': 'sakha',\n",
       " 'hsb': 'upper sorbian',\n",
       " 'map-bms': 'banyumasan',\n",
       " 'mai': 'maithili',\n",
       " 'fo': 'faroese',\n",
       " 'li': 'limburgish',\n",
       " 'mzn': 'mazandarani',\n",
       " 'ps': 'pashto',\n",
       " 'eml': 'emilian-romagnol',\n",
       " 'gor': 'gorontalo',\n",
       " 'ace': 'acehnese',\n",
       " 'lld': 'ladin',\n",
       " 'ban': 'balinese',\n",
       " 'bcl': 'central bicolano',\n",
       " 'sa': 'sanskrit',\n",
       " 'wa': 'walloon',\n",
       " 'zh-classical': 'classical chinese',\n",
       " 'lij': 'ligurian',\n",
       " 'zu': 'zulu',\n",
       " 'shn': 'shan',\n",
       " 'mhr': 'meadow mari',\n",
       " 'mrj': 'hill mari',\n",
       " 'hif': 'fiji hindi',\n",
       " 'mni': 'meitei',\n",
       " 'as': 'assamese',\n",
       " 'hak': 'hakka',\n",
       " 'roa-tara': 'tarantino',\n",
       " 'hyw': 'western armenian',\n",
       " 'pam': 'kapampangan',\n",
       " 'km': 'khmer',\n",
       " 'ie': 'interlingue',\n",
       " 'nso': 'northern sotho',\n",
       " 'rue': 'rusyn',\n",
       " 'se': 'north sami',\n",
       " 'bh': 'bhojpuri',\n",
       " 'so': 'somali',\n",
       " 'nds-nl': 'dutch low saxon',\n",
       " 'vls': 'west flemish',\n",
       " 'sn': 'shona',\n",
       " 'myv': 'erzya',\n",
       " 'nah': 'nahuatl',\n",
       " 'mi': 'maori',\n",
       " 'sat': 'santali',\n",
       " 'sc': 'sardinian',\n",
       " 'vep': 'vepsian',\n",
       " 'gan': 'gan',\n",
       " 'glk': 'gilaki',\n",
       " 'kab': 'kabyle',\n",
       " 'tk': 'turkmen',\n",
       " 'fiu-vro': 'võro',\n",
       " 'co': 'corsican',\n",
       " 'bo': 'tibetan',\n",
       " 'ab': 'abkhazian',\n",
       " 'kv': 'komi',\n",
       " 'csb': 'kashubian',\n",
       " 'frp': 'franco-provençal',\n",
       " 'pcd': 'picard',\n",
       " 'kw': 'cornish',\n",
       " 'ug': 'uyghur',\n",
       " 'udm': 'udmurt',\n",
       " 'gv': 'manx',\n",
       " 'ay': 'aymara',\n",
       " 'ary': 'moroccan arabic',\n",
       " 'zea': 'zeelandic',\n",
       " 'nrm': 'norman',\n",
       " 'gn': 'guarani',\n",
       " 'bjn': 'banjar',\n",
       " 'mt': 'maltese',\n",
       " 'lez': 'lezgian',\n",
       " 'lfn': 'lingua franca nova',\n",
       " 'stq': 'saterland frisian',\n",
       " 'smn': 'inari sami',\n",
       " 'skr': 'saraiki',\n",
       " 'lo': 'lao',\n",
       " 'mwl': 'mirandese',\n",
       " 'olo': 'livvi-karelian',\n",
       " 'rm': 'romansh',\n",
       " 'fur': 'friulian',\n",
       " 'lad': 'ladino',\n",
       " 'gom': 'goan konkani',\n",
       " 'ang': 'anglo-saxon',\n",
       " 'koi': 'komi-permyak',\n",
       " 'ext': 'extremaduran',\n",
       " 'tyv': 'tuvan',\n",
       " 'dsb': 'lower sorbian',\n",
       " 'dty': 'doteli',\n",
       " 'ln': 'lingala',\n",
       " 'cbk-zam': 'zamboanga chavacano',\n",
       " 'dv': 'divehi',\n",
       " 'rw': 'kinyarwanda',\n",
       " 'ksh': 'ripuarian',\n",
       " 'gag': 'gagauz',\n",
       " 'ig': 'igbo',\n",
       " 'bxr': 'buryat',\n",
       " 'pfl': 'palatinate german',\n",
       " 'av': 'avar',\n",
       " 'pi': 'pali',\n",
       " 'pag': 'pangasinan',\n",
       " 'haw': 'hawaiian',\n",
       " 'awa': 'awadhi',\n",
       " 'tay': 'tayal',\n",
       " 'pap': 'papiamentu',\n",
       " 'krc': 'karachay-balkar',\n",
       " 'xal': 'kalmyk',\n",
       " 'szy': 'sakizaya',\n",
       " 'za': 'zhuang',\n",
       " 'inh': 'ingush',\n",
       " 'pdc': 'pennsylvania german',\n",
       " 'kaa': 'karakalpak',\n",
       " 'atj': 'atikamekw',\n",
       " 'to': 'tongan',\n",
       " 'arc': 'aramaic',\n",
       " 'kbp': 'kabiye',\n",
       " 'tpi': 'tok pisin',\n",
       " 'jam': 'jamaican patois',\n",
       " 'na': 'nauruan',\n",
       " 'wo': 'wolof',\n",
       " 'tw': 'twi',\n",
       " 'kbd': 'kabardian circassian',\n",
       " 'tcy': 'tulu',\n",
       " 'mdf': 'moksha',\n",
       " 'nov': 'novial',\n",
       " 'ki': 'kikuyu',\n",
       " 'tet': 'tetum',\n",
       " 'dag': 'dagbani',\n",
       " 'nia': 'nias',\n",
       " 'lg': 'luganda',\n",
       " 'bi': 'bislama',\n",
       " 'jbo': 'lojban',\n",
       " 'roa-rup': 'aromanian',\n",
       " 'fj': 'fijian',\n",
       " 'kg': 'kongo',\n",
       " 'xh': 'xhosa',\n",
       " 'lbe': 'lak',\n",
       " 'ty': 'tahitian',\n",
       " 'mnw': 'mon',\n",
       " 'nqo': 'n’ko',\n",
       " 'shi': 'tachelhit',\n",
       " 'trv': 'seediq',\n",
       " 'srn': 'sranan',\n",
       " 'om': 'oromo',\n",
       " 'cu': 'old church slavonic',\n",
       " 'gcr': 'guianan creole',\n",
       " 'sm': 'samoan',\n",
       " 'ks': 'kashmiri',\n",
       " 'alt': 'southern altai',\n",
       " 'ltg': 'latgalian',\n",
       " 'chr': 'cherokee',\n",
       " 'pih': 'norfolk',\n",
       " 'tum': 'tumbuka',\n",
       " 'ny': 'chichewa',\n",
       " 'got': 'gothic',\n",
       " 'mad': 'madurese',\n",
       " 'st': 'sesotho',\n",
       " 'ami': 'amis',\n",
       " 'kl': 'greenlandic',\n",
       " 'rmy': 'romani',\n",
       " 'tn': 'tswana',\n",
       " 'bm': 'bambara',\n",
       " 'ts': 'tsonga',\n",
       " 'chy': 'cheyenne',\n",
       " 've': 'venda',\n",
       " 'rn': 'kirundi',\n",
       " 'iu': 'inuktitut',\n",
       " 'ak': 'akan',\n",
       " 'ss': 'swati',\n",
       " 'ch': 'chamorro',\n",
       " 'pnt': 'pontic',\n",
       " 'ady': 'adyghe',\n",
       " 'ik': 'inupiak',\n",
       " 'ee': 'ewe',\n",
       " 'ff': 'fula',\n",
       " 'din': 'dinka',\n",
       " 'sg': 'sango',\n",
       " 'dz': 'dzongkha',\n",
       " 'ti': 'tigrinya',\n",
       " 'pwn': 'paiwan',\n",
       " 'cr': 'cree',\n",
       " 'ng': 'ndonga',\n",
       " 'cho': 'choctaw',\n",
       " 'kj': 'kuanyama',\n",
       " 'mh': 'marshallese',\n",
       " 'ho': 'hiri motu',\n",
       " 'ii': 'sichuan yi',\n",
       " 'aa': 'afar',\n",
       " 'lrc': 'northern luri',\n",
       " 'mus': 'muscogee',\n",
       " 'hz': 'herero',\n",
       " 'kr': 'kanuri'}"
      ]
     },
     "execution_count": 54,
     "metadata": {},
     "output_type": "execute_result"
    }
   ],
   "source": [
    "languages"
   ]
  },
  {
   "cell_type": "markdown",
   "id": "3da10d88",
   "metadata": {},
   "source": [
    "#### 1.3 Wikipedia articles written in the greatest number of languages"
   ]
  },
  {
   "cell_type": "code",
   "execution_count": 19,
   "id": "244d7ec8",
   "metadata": {},
   "outputs": [],
   "source": [
    "r = requests.get('https://en.wikipedia.org/wiki/Wikipedia:Wikipedia_articles_written_in_the_greatest_number_of_languages')\n",
    "articles = {}\n",
    "for element in r.text.split('\\n'):\n",
    "    if element.startswith('<p>') or element.startswith('</p>'):\n",
    "        if len(element.split(' ')) > 1:\n",
    "            link = element.split(' ')[1][7:-1]\n",
    "        text = BeautifulSoup(element, \"html.parser\").text\n",
    "        if ':' in text:\n",
    "            name, other = text.split(':')\n",
    "            for e in other.split(' '):\n",
    "                if e.isnumeric():\n",
    "                    articles[name] = (int(e), link)\n",
    "        else:\n",
    "            words = text.split(' ')\n",
    "            name = words[0]\n",
    "            for e in words:\n",
    "                if e.isnumeric():\n",
    "                    articles[name] = (int(e), link)"
   ]
  },
  {
   "cell_type": "code",
   "execution_count": 20,
   "id": "8f47bad7",
   "metadata": {
    "scrolled": true
   },
   "outputs": [
    {
     "data": {
      "text/plain": [
       "{'Russia': (311, 'wiki/Russia'),\n",
       " 'Japan': (308, 'wiki/Japan'),\n",
       " 'Italy': (308, 'wiki/Italy'),\n",
       " 'United States': (301, 'wiki/United_States'),\n",
       " 'Wikipedia': (293, 'wiki/Wikipedia'),\n",
       " 'Africa': (292, 'wiki/Africa'),\n",
       " 'China': (289, 'wiki/China'),\n",
       " 'Europe': (288, 'wiki/Europe'),\n",
       " 'India': (287, 'wiki/India'),\n",
       " 'English Language': (287, 'wiki/English_Language'),\n",
       " 'Asia': (287, 'wiki/Asia'),\n",
       " 'United Kingdom': (276, 'wiki/United_Kingdom'),\n",
       " 'Iran': (275, 'wiki/Iran'),\n",
       " 'Earth': (265, 'wiki/Earth'),\n",
       " 'South Africa': (263, 'wiki/South_Africa'),\n",
       " 'Paris': (261, 'wiki/Paris'),\n",
       " 'Sun': (255, 'wiki/Sun'),\n",
       " 'Jesus': (252, 'wiki/Jesus'),\n",
       " 'Rome': (250, 'wiki/Rome'),\n",
       " 'Bible': (250, 'wiki/Bible'),\n",
       " 'Water': (246, 'wiki/Water'),\n",
       " 'South America': (243, 'wiki/South_America'),\n",
       " 'Dog': (243, 'wiki/Dog'),\n",
       " 'Iraq': (242, 'wiki/Iraq'),\n",
       " 'Islam': (240, 'wiki/Islam'),\n",
       " 'Christianity': (240, 'wiki/Christianity'),\n",
       " 'New York City': (237, 'wiki/New_York_City'),\n",
       " 'Ghana': (236, 'wiki/Ghana'),\n",
       " 'Moon': (235, 'wiki/Moon'),\n",
       " 'Barack Obama': (234, 'wiki/Barack_Obama'),\n",
       " 'Niger': (220, 'wiki/Niger'),\n",
       " 'Gold': (217, 'wiki/Gold'),\n",
       " 'Adolf Hitler': (216, 'wiki/Adolf_Hitler'),\n",
       " 'Religion': (215, 'wiki/Religion'),\n",
       " 'World War II': (214, 'wiki/World_War_II'),\n",
       " 'Association football (soccer)': (214, 'wiki/Association_football'),\n",
       " 'Internet': (208, 'wiki/Internet'),\n",
       " 'George W. Bush': (206, 'wiki/George_W._Bush'),\n",
       " 'Christmas': (205, 'wiki/Christmas'),\n",
       " 'Iron': (203, 'wiki/Iron'),\n",
       " 'Human': (199, 'wiki/Human'),\n",
       " 'Soviet Union': (197, 'wiki/Soviet_Union'),\n",
       " 'Milk': (197, 'wiki/Milk'),\n",
       " 'Judaism': (197, 'wiki/Judaism'),\n",
       " 'Hinduism': (197, 'wiki/Hinduism'),\n",
       " 'Muhammad': (194, 'wiki/Muhammad'),\n",
       " 'Silver': (193, 'wiki/Silver'),\n",
       " 'Maize': (193, 'wiki/Maize'),\n",
       " 'Periodic table': (189, 'wiki/Periodic_table'),\n",
       " 'Eye': (188, 'wiki/Eye'),\n",
       " 'Buddha': (188, 'wiki/Buddha'),\n",
       " 'Mohandas Karamchand Gandhi': (187, 'wiki/Mohandas_Karamchand_Gandhi'),\n",
       " 'Koran': (177, 'wiki/Koran'),\n",
       " 'Money': (175, 'wiki/Money'),\n",
       " 'Rice': (171, 'wiki/Rice'),\n",
       " 'Roman Catholic Church': (158, 'wiki/Roman_Catholic_Church'),\n",
       " 'Pope Benedict XVI': (142, 'wiki/Pope_Benedict_XVI'),\n",
       " 'Buddhism': (142, 'wiki/Buddhism'),\n",
       " 'Moses': (141, 'wiki/Moses'),\n",
       " 'Pope John Paul II': (139, 'wiki/Pope_John_Paul_II'),\n",
       " 'Osama Bin Laden': (136, 'wiki/Osama_Bin_Laden')}"
      ]
     },
     "execution_count": 20,
     "metadata": {},
     "output_type": "execute_result"
    }
   ],
   "source": [
    "dict(sorted(articles.items(), key=lambda item: item[1], reverse = True))"
   ]
  },
  {
   "cell_type": "markdown",
   "id": "eede3d97",
   "metadata": {},
   "source": [
    "### 2. UD tagging"
   ]
  },
  {
   "attachments": {
    "Jupiter%20is%20the%20fifth%20planet%20from%20the%20Sun%20and%20the%20largest%20in%20the%20solar%20system.png": {
     "image/png": "[encoded data removed]"
    }
   },
   "cell_type": "markdown",
   "id": "90f8d645",
   "metadata": {},
   "source": [
    "![Jupiter%20is%20the%20fifth%20planet%20from%20the%20Sun%20and%20the%20largest%20in%20the%20solar%20system.png](attachment:Jupiter%20is%20the%20fifth%20planet%20from%20the%20Sun%20and%20the%20largest%20in%20the%20solar%20system.png)\n",
    "Example of what I want (from corenlp.run) -> in CONLLU format"
   ]
  },
  {
   "cell_type": "code",
   "execution_count": 14,
   "id": "fdbab9f9",
   "metadata": {},
   "outputs": [],
   "source": [
    "# using stanza\n",
    "import stanza\n",
    "from stanza.utils.conll import CoNLL"
   ]
  },
  {
   "cell_type": "code",
   "execution_count": 45,
   "id": "519f1935",
   "metadata": {
    "scrolled": true
   },
   "outputs": [
    {
     "data": {
      "application/vnd.jupyter.widget-view+json": {
       "model_id": "01844959872f4fab809bf347446e90a5",
       "version_major": 2,
       "version_minor": 0
      },
      "text/plain": [
       "Downloading https://raw.githubusercontent.com/stanfordnlp/stanza-resources/main/resources_1.3.0.json:   0%|   …"
      ]
     },
     "metadata": {},
     "output_type": "display_data"
    },
    {
     "name": "stderr",
     "output_type": "stream",
     "text": [
      "2022-01-25 15:42:20 INFO: Downloading default packages for language: en (English)...\n",
      "2022-01-25 15:42:22 INFO: File exists: /home/gusgraupa@GU.GU.SE/stanza_resources/en/default.zip.\n",
      "2022-01-25 15:42:30 INFO: Finished downloading models and saved to /home/gusgraupa@GU.GU.SE/stanza_resources.\n",
      "2022-01-25 15:42:30 INFO: Loading these models for language: en (English):\n",
      "============================\n",
      "| Processor    | Package   |\n",
      "----------------------------\n",
      "| tokenize     | combined  |\n",
      "| pos          | combined  |\n",
      "| lemma        | combined  |\n",
      "| depparse     | combined  |\n",
      "| sentiment    | sstplus   |\n",
      "| constituency | wsj       |\n",
      "| ner          | ontonotes |\n",
      "============================\n",
      "\n",
      "2022-01-25 15:42:30 INFO: Use device: gpu\n",
      "2022-01-25 15:42:30 INFO: Loading: tokenize\n",
      "2022-01-25 15:42:30 INFO: Loading: pos\n",
      "2022-01-25 15:42:32 INFO: Loading: lemma\n",
      "2022-01-25 15:42:33 INFO: Loading: depparse\n",
      "2022-01-25 15:42:35 INFO: Loading: sentiment\n",
      "2022-01-25 15:42:38 INFO: Loading: constituency\n",
      "2022-01-25 15:42:42 INFO: Loading: ner\n",
      "2022-01-25 15:42:48 INFO: Done loading processors!\n"
     ]
    },
    {
     "data": {
      "application/vnd.jupyter.widget-view+json": {
       "model_id": "ff6317cac2e54d75b31a5c9eac2c7c83",
       "version_major": 2,
       "version_minor": 0
      },
      "text/plain": [
       "Downloading https://raw.githubusercontent.com/stanfordnlp/stanza-resources/main/resources_1.3.0.json:   0%|   …"
      ]
     },
     "metadata": {},
     "output_type": "display_data"
    },
    {
     "name": "stderr",
     "output_type": "stream",
     "text": [
      "2022-01-25 15:42:48 INFO: Downloading default packages for language: es (Spanish)...\n",
      "2022-01-25 15:42:50 INFO: File exists: /home/gusgraupa@GU.GU.SE/stanza_resources/es/default.zip.\n",
      "2022-01-25 15:42:59 INFO: Finished downloading models and saved to /home/gusgraupa@GU.GU.SE/stanza_resources.\n",
      "2022-01-25 15:42:59 INFO: Loading these models for language: es (Spanish):\n",
      "=======================\n",
      "| Processor | Package |\n",
      "-----------------------\n",
      "| tokenize  | ancora  |\n",
      "| mwt       | ancora  |\n",
      "| pos       | ancora  |\n",
      "| lemma     | ancora  |\n",
      "| depparse  | ancora  |\n",
      "| ner       | conll02 |\n",
      "=======================\n",
      "\n",
      "2022-01-25 15:42:59 INFO: Use device: gpu\n",
      "2022-01-25 15:42:59 INFO: Loading: tokenize\n",
      "2022-01-25 15:42:59 INFO: Loading: mwt\n",
      "2022-01-25 15:42:59 INFO: Loading: pos\n",
      "2022-01-25 15:43:01 INFO: Loading: lemma\n",
      "2022-01-25 15:43:01 INFO: Loading: depparse\n",
      "2022-01-25 15:43:06 INFO: Loading: ner\n",
      "2022-01-25 15:43:17 INFO: Done loading processors!\n"
     ]
    },
    {
     "data": {
      "application/vnd.jupyter.widget-view+json": {
       "model_id": "54ccd3faef074f4a9da5fe6c74ec62ac",
       "version_major": 2,
       "version_minor": 0
      },
      "text/plain": [
       "Downloading https://raw.githubusercontent.com/stanfordnlp/stanza-resources/main/resources_1.3.0.json:   0%|   …"
      ]
     },
     "metadata": {},
     "output_type": "display_data"
    },
    {
     "name": "stderr",
     "output_type": "stream",
     "text": [
      "2022-01-25 15:43:17 INFO: Downloading default packages for language: fr (French)...\n",
      "2022-01-25 15:43:18 INFO: File exists: /home/gusgraupa@GU.GU.SE/stanza_resources/fr/default.zip.\n",
      "2022-01-25 15:43:28 INFO: Finished downloading models and saved to /home/gusgraupa@GU.GU.SE/stanza_resources.\n",
      "2022-01-25 15:43:28 INFO: Loading these models for language: fr (French):\n",
      "=======================\n",
      "| Processor | Package |\n",
      "-----------------------\n",
      "| tokenize  | gsd     |\n",
      "| mwt       | gsd     |\n",
      "| pos       | gsd     |\n",
      "| lemma     | gsd     |\n",
      "| depparse  | gsd     |\n",
      "| ner       | wikiner |\n",
      "=======================\n",
      "\n",
      "2022-01-25 15:43:28 INFO: Use device: gpu\n",
      "2022-01-25 15:43:28 INFO: Loading: tokenize\n",
      "2022-01-25 15:43:28 INFO: Loading: mwt\n",
      "2022-01-25 15:43:28 INFO: Loading: pos\n",
      "2022-01-25 15:43:32 INFO: Loading: lemma\n",
      "2022-01-25 15:43:33 INFO: Loading: depparse\n",
      "2022-01-25 15:43:36 INFO: Loading: ner\n",
      "2022-01-25 15:43:45 INFO: Done loading processors!\n"
     ]
    }
   ],
   "source": [
    "# Getting first paragraph\n",
    "list_of_clean_files = [('jupiter/clean_jupiter_en.txt', 'en'), ('jupiter/clean_jupiter_spa.txt', 'es'), ('jupiter/clean_jupiter_fr.txt', 'fr')]\n",
    "for file, lang in list_of_clean_files:\n",
    "    stanza.download(lang)\n",
    "    nlp = stanza.Pipeline(lang)\n",
    "    with open(file, 'r') as f:\n",
    "        for line in f:\n",
    "            if line.startswith('J'): # First line talking about Jupiter\n",
    "                doc = nlp(line)\n",
    "                CoNLL.write_doc2conll(doc, f\"jupiter/jup_{lang}.conllu\")\n",
    "                break"
   ]
  },
  {
   "cell_type": "markdown",
   "id": "a29b08bc",
   "metadata": {},
   "source": [
    "### 2.1 UDPipe API"
   ]
  },
  {
   "cell_type": "code",
   "execution_count": 12,
   "id": "e18e883b",
   "metadata": {},
   "outputs": [],
   "source": [
    "# Models\n",
    "r = requests.get('http://lindat.mff.cuni.cz/services/udpipe/api/models')\n",
    "data = json.loads(r.text)\n",
    "models = {}\n",
    "for i in data['models'].keys():\n",
    "    if i.startswith('norwegian') or i.startswith('ancient-greek'):\n",
    "        lang = '_'.join(i.split('-')[0:2])\n",
    "    elif i.startswith('old-church'):\n",
    "        lang = '_'.join(i.split('-')[0:3])  \n",
    "    else:\n",
    "        lang = i.split('-')[0]\n",
    "    if lang in models:\n",
    "        models[lang].append(i)\n",
    "    else:\n",
    "        models[lang] = [i]"
   ]
  },
  {
   "cell_type": "code",
   "execution_count": 35,
   "id": "fdc82c25",
   "metadata": {},
   "outputs": [],
   "source": [
    "#models"
   ]
  },
  {
   "cell_type": "code",
   "execution_count": 20,
   "id": "bb387304",
   "metadata": {},
   "outputs": [
    {
     "data": {
      "text/plain": [
       "dict_keys(['afrikaans', 'ancient_greek', 'arabic', 'armenian', 'basque', 'belarusian', 'bulgarian', 'catalan', 'chinese', 'classical_chinese', 'coptic', 'croatian', 'czech', 'danish', 'dutch', 'english', 'estonian', 'finnish', 'french', 'galician', 'german', 'gothic', 'greek', 'hebrew', 'hindi', 'hungarian', 'indonesian', 'irish', 'italian', 'japanese', 'korean', 'latin', 'latvian', 'lithuanian', 'maltese', 'marathi', 'naija', 'north_sami', 'norwegian_bokmaal', 'norwegian_nynorsk', 'norwegian_nynorsklia', 'old_church_slavonic', 'old_french', 'old_russian', 'persian', 'polish', 'portuguese', 'romanian', 'russian', 'sanskrit', 'scottish_gaelic', 'serbian', 'slovak', 'slovenian', 'spanish', 'swedish', 'tamil', 'telugu', 'turkish', 'ukrainian', 'urdu', 'uyghur', 'vietnamese', 'welsh', 'wolof', 'kazakh', 'norwegian_ud'])"
      ]
     },
     "execution_count": 20,
     "metadata": {},
     "output_type": "execute_result"
    }
   ],
   "source": [
    "models.keys()"
   ]
  },
  {
   "cell_type": "code",
   "execution_count": 25,
   "id": "f976b904",
   "metadata": {},
   "outputs": [],
   "source": [
    "# getting CONLLU files with UDPipe 2 on Wikipedia\n",
    "url = 'https://lindat.mff.cuni.cz/services/udpipe/api/process'\n",
    "list_of_clean_files = [('jupiter/cleantext/clean_jupiter_en.txt', 'english'), ('jupiter/cleantext/clean_jupiter_spa.txt', 'spanish'), ('jupiter/cleantext/clean_jupiter_fr.txt', 'french')]\n",
    "for (file, lang) in list_of_clean_files:\n",
    "     with open(file, 'r') as f:\n",
    "        for line in f:\n",
    "            myobj = {'data' : line, 'model' : models[lang],'tokenizer' : '', 'tagger' : '', 'parser' : ''}\n",
    "            x = requests.post(url, data = myobj)                \n",
    "            # to use 'a', the text has to be erased before!\n",
    "            with open(f\"jupiter/parsed_with_UDPipe/jup_{lang}.conllu\", \"a\") as g:\n",
    "                g.write(json.loads(x.text)['result'])"
   ]
  },
  {
   "cell_type": "code",
   "execution_count": 7,
   "id": "e9d690f8",
   "metadata": {},
   "outputs": [
    {
     "name": "stdout",
     "output_type": "stream",
     "text": [
      "{\n",
      " \"model\": \"spanish-ancora-ud-2.6-200830\",\n",
      " \"acknowledgements\": [\n",
      "  \"http://ufal.mff.cuni.cz/udpipe/2#udpipe2_acknowledgements\",\n",
      "  \"http://ufal.mff.cuni.cz/udpipe/2/models#universal_dependencies_26_models\"\n",
      " ],\n",
      " \"result\": \"# generator = UDPipe 2, https://lindat.mff.cuni.cz/services/udpipe\\n# udpipe_model = spanish-ancora-ud-2.6-200830\\n# udpipe_model_licence = CC BY-NC-SA\\n# newdoc\\n# newpar\\n# sent_id = 1\\n# text = La pequeña y astuta Alicia se metió por el pasillo.\\n1\\tLa\\t_\\t_\\t_\\t_\\t_\\t_\\t_\\t_\\n2\\tpequeña\\t_\\t_\\t_\\t_\\t_\\t_\\t_\\t_\\n3\\ty\\t_\\t_\\t_\\t_\\t_\\t_\\t_\\t_\\n4\\tastuta\\t_\\t_\\t_\\t_\\t_\\t_\\t_\\t_\\n5\\tAlicia\\t_\\t_\\t_\\t_\\t_\\t_\\t_\\t_\\n6\\tse\\t_\\t_\\t_\\t_\\t_\\t_\\t_\\t_\\n7\\tmetió\\t_\\t_\\t_\\t_\\t_\\t_\\t_\\t_\\n8\\tpor\\t_\\t_\\t_\\t_\\t_\\t_\\t_\\t_\\n9\\tel\\t_\\t_\\t_\\t_\\t_\\t_\\t_\\t_\\n10\\tpasillo\\t_\\t_\\t_\\t_\\t_\\t_\\t_\\tSpaceAfter=No\\n11\\t.\\t_\\t_\\t_\\t_\\t_\\t_\\t_\\t_\\n\\n# sent_id = 2\\n# text = ¿Quién sabe a dónde llevaría?\\n1\\t¿\\t_\\t_\\t_\\t_\\t_\\t_\\t_\\tSpaceAfter=No\\n2\\tQuién\\t_\\t_\\t_\\t_\\t_\\t_\\t_\\t_\\n3\\tsabe\\t_\\t_\\t_\\t_\\t_\\t_\\t_\\t_\\n4\\ta\\t_\\t_\\t_\\t_\\t_\\t_\\t_\\t_\\n5\\tdónde\\t_\\t_\\t_\\t_\\t_\\t_\\t_\\t_\\n6\\tllevaría\\t_\\t_\\t_\\t_\\t_\\t_\\t_\\tSpaceAfter=No\\n7\\t?\\t_\\t_\\t_\\t_\\t_\\t_\\t_\\t_\\n\\n# sent_id = 3\\n# text = Hay muchos misterios en esta vida.\\n1\\tHay\\t_\\t_\\t_\\t_\\t_\\t_\\t_\\t_\\n2\\tmuchos\\t_\\t_\\t_\\t_\\t_\\t_\\t_\\t_\\n3\\tmisterios\\t_\\t_\\t_\\t_\\t_\\t_\\t_\\t_\\n4\\ten\\t_\\t_\\t_\\t_\\t_\\t_\\t_\\t_\\n5\\testa\\t_\\t_\\t_\\t_\\t_\\t_\\t_\\t_\\n6\\tvida\\t_\\t_\\t_\\t_\\t_\\t_\\t_\\tSpaceAfter=No\\n7\\t.\\t_\\t_\\t_\\t_\\t_\\t_\\t_\\tSpaceAfter=No\\n\\n\"\n",
      "}\n",
      "\n"
     ]
    }
   ],
   "source": [
    "text = 'La pequeña y astuta Alicia se metió por el pasillo. ¿Quién sabe a dónde llevaría? Hay muchos misterios en esta vida.'\n",
    "myobj = {'data' : text, 'model' : models['spanish'][0],'tokenizer' : ''} #, 'tagger' : '', 'parser' : ''}\n",
    "url = 'https://lindat.mff.cuni.cz/services/udpipe/api/process'\n",
    "x = requests.post(url, data = myobj) \n",
    "print(x.text)\n",
    "# with open('test_sentences.conllu', \"a\") as g:\n",
    "#     g.write(json.loads(x.text)['result'])"
   ]
  },
  {
   "cell_type": "code",
   "execution_count": 21,
   "id": "dc4b12af",
   "metadata": {
    "scrolled": true
   },
   "outputs": [],
   "source": [
    "# compare languages in Wikipedia with languages in UDPipe\n",
    "# models are the languages that can be used in UDPipe\n",
    "# languages are the languages in Wikipedia\n",
    "both = []\n",
    "nope = []\n",
    "models_list = list(models.keys())\n",
    "languages_list = list(languages.keys())\n",
    "for model in models_list:\n",
    "    name = ' '.join(model.split('_'))\n",
    "    if name in languages_list:\n",
    "        both.append(name)\n",
    "    else:\n",
    "        nope.append(name)"
   ]
  },
  {
   "cell_type": "code",
   "execution_count": 23,
   "id": "68b4ffd6",
   "metadata": {
    "scrolled": true
   },
   "outputs": [
    {
     "data": {
      "text/plain": [
       "['afrikaans',\n",
       " 'arabic',\n",
       " 'armenian',\n",
       " 'basque',\n",
       " 'belarusian',\n",
       " 'bulgarian',\n",
       " 'catalan',\n",
       " 'chinese',\n",
       " 'classical chinese',\n",
       " 'croatian',\n",
       " 'czech',\n",
       " 'danish',\n",
       " 'dutch',\n",
       " 'english',\n",
       " 'estonian',\n",
       " 'finnish',\n",
       " 'french',\n",
       " 'galician',\n",
       " 'german',\n",
       " 'gothic',\n",
       " 'greek',\n",
       " 'hebrew',\n",
       " 'hindi',\n",
       " 'hungarian',\n",
       " 'indonesian',\n",
       " 'irish',\n",
       " 'italian',\n",
       " 'japanese',\n",
       " 'korean',\n",
       " 'latin',\n",
       " 'latvian',\n",
       " 'lithuanian',\n",
       " 'maltese',\n",
       " 'marathi',\n",
       " 'north sami',\n",
       " 'old church slavonic',\n",
       " 'persian',\n",
       " 'polish',\n",
       " 'portuguese',\n",
       " 'romanian',\n",
       " 'russian',\n",
       " 'sanskrit',\n",
       " 'scottish gaelic',\n",
       " 'serbian',\n",
       " 'slovak',\n",
       " 'slovenian',\n",
       " 'spanish',\n",
       " 'swedish',\n",
       " 'tamil',\n",
       " 'telugu',\n",
       " 'turkish',\n",
       " 'ukrainian',\n",
       " 'urdu',\n",
       " 'uyghur',\n",
       " 'vietnamese',\n",
       " 'welsh',\n",
       " 'wolof',\n",
       " 'kazakh']"
      ]
     },
     "execution_count": 23,
     "metadata": {},
     "output_type": "execute_result"
    }
   ],
   "source": [
    "# We know that Chinese is the Wikipedia with a different name (chinese)\n",
    "# norwegian bokmaal is also in the Wikipedia with an å instead of aa\n",
    "# north sami is northern sami in the wikipedia\n",
    "# I am going to change those names in the wikipedia languages.\n",
    "both"
   ]
  },
  {
   "cell_type": "code",
   "execution_count": 61,
   "id": "c046073e",
   "metadata": {},
   "outputs": [],
   "source": [
    "# Learning how to parse with UDpipe witjout creating extra files --> temp files\n",
    "def udparsing(url, lang, name, path, model = models[lang][0]):\n",
    "    with tempfile.TemporaryFile(mode='w+t') as tmp:\n",
    "        tmp.write(requests.get(url).text)\n",
    "        tmp.seek(0)\n",
    "        starters = ['<p>', '</p><p>', '<title>', '<h']\n",
    "        api_url = 'https://lindat.mff.cuni.cz/services/udpipe/api/process'\n",
    "        with open(f'{path}{name}.conllu', 'w') as g:\n",
    "            g.write(f'# {url}\\n\\n')\n",
    "            for alltext in tmp.readlines():\n",
    "                texto = alltext.strip('\\t')\n",
    "                if texto.startswith(tuple(starters)):\n",
    "                    cleantext = BeautifulSoup(texto, \"html.parser\").text\n",
    "                    cleantext = re.sub(r'\\[\\d+\\]', '', cleantext) # remove references [digit]\n",
    "                    cleantext = cleantext.replace(u'\\u200b', '') # remove this character\n",
    "                    if len(cleantext) != 0:\n",
    "                        myobj = {'data' : cleantext, 'model' : model,'tokenizer' : '', 'tagger' : '', 'parser' : ''}\n",
    "                        x = requests.post(api_url, data = myobj)\n",
    "                        g.write(json.loads(x.text)['result'])"
   ]
  },
  {
   "cell_type": "code",
   "execution_count": 62,
   "id": "523768a1",
   "metadata": {},
   "outputs": [],
   "source": [
    "udparsing('https://en.wikipedia.org/wiki/Russia', 'english', 'russia', './')"
   ]
  },
  {
   "cell_type": "code",
   "execution_count": 55,
   "id": "1312f5d8",
   "metadata": {},
   "outputs": [],
   "source": [
    "lang_in_states = []\n",
    "with open('testing_the_script/states.html') as f:\n",
    "    for line in f:\n",
    "        if '<ul class=\"vector-menu-content-list\"><li class=\"interlanguage-link interwiki' in line:\n",
    "            for parts in line.split(' '):\n",
    "                if parts.startswith('href='):\n",
    "                    lang_in_states.append(parts[6:-1])"
   ]
  },
  {
   "cell_type": "code",
   "execution_count": 59,
   "id": "13aae378",
   "metadata": {
    "scrolled": true
   },
   "outputs": [
    {
     "data": {
      "text/plain": [
       "'af'"
      ]
     },
     "execution_count": 59,
     "metadata": {},
     "output_type": "execute_result"
    }
   ],
   "source": [
    "lang_in_states[3].split('//')[1].split('.')[0]"
   ]
  },
  {
   "cell_type": "code",
   "execution_count": 7,
   "id": "c6671bf4",
   "metadata": {},
   "outputs": [],
   "source": [
    "import os\n",
    "link = 'wiki/United_States'\n",
    "name = link.split('/')[1]\n",
    "os.mkdir('attempt1')\n",
    "dir_path = f'attempt1/{name}/'\n",
    "os.mkdir(dir_path)"
   ]
  },
  {
   "cell_type": "markdown",
   "id": "9217151d",
   "metadata": {},
   "source": [
    "### What articles do we have in which languages?"
   ]
  },
  {
   "cell_type": "code",
   "execution_count": null,
   "id": "dd28a917",
   "metadata": {},
   "outputs": [],
   "source": [
    "from os import listdir\n",
    "from os.path import isfile, join\n",
    "mypath = '/home/gusgraupa@GU.GU.SE/wikipedia_article_analysis/data'\n",
    "\n",
    "onlyfiles = [f for f in listdir(mypath) if isfile(join(mypath, f))]"
   ]
  },
  {
   "cell_type": "code",
   "execution_count": 22,
   "id": "af8f39c3",
   "metadata": {
    "scrolled": true
   },
   "outputs": [
    {
     "name": "stdout",
     "output_type": "stream",
     "text": [
      "There are 61 directories\n",
      "\n",
      "There are 57 files in Iran.\n",
      "There are 58 files in Russia.\n",
      "There are 58 files in Italy.\n",
      "There are 58 files in United_States.\n",
      "There are 58 files in Europe.\n",
      "There are 58 files in Wikipedia.\n",
      "There are 58 files in Asia.\n",
      "There are 58 files in English_Language.\n",
      "There are 58 files in Africa.\n",
      "There are 57 files in India.\n",
      "There are 58 files in Japan.\n",
      "There are 57 files in United_Kingdom.\n",
      "There are 57 files in China.\n",
      "There are 58 files in Earth.\n",
      "There are 58 files in Sun.\n",
      "There are 57 files in Paris.\n",
      "There are 57 files in South_Africa.\n",
      "There are 58 files in Rome.\n",
      "There are 58 files in Jesus.\n",
      "There are 56 files in Bible.\n",
      "There are 57 files in Islam.\n",
      "There are 55 files in Barack_Obama.\n",
      "There are 55 files in Moon.\n",
      "There are 57 files in Iraq.\n",
      "There are 56 files in Dog.\n",
      "There are 56 files in Ghana.\n",
      "There are 56 files in Christianity.\n",
      "There are 57 files in South_America.\n",
      "There are 57 files in Water.\n",
      "There are 55 files in New_York_City.\n",
      "There are 54 files in Internet.\n",
      "There are 56 files in Association_football.\n",
      "There are 54 files in Religion.\n",
      "There are 56 files in World_War_II.\n",
      "There are 54 files in Adolf_Hitler.\n",
      "There are 56 files in Niger.\n",
      "There are 55 files in Gold.\n",
      "There are 55 files in Christmas.\n",
      "There are 54 files in Human.\n",
      "There are 54 files in Iron.\n",
      "There are 53 files in Judaism.\n",
      "There are 55 files in Buddhism.\n",
      "There are 57 files in Soviet_Union.\n",
      "There are 53 files in Periodic_table.\n",
      "There are 55 files in Silver.\n",
      "There are 54 files in Milk.\n",
      "There are 55 files in George_W._Bush.\n",
      "There are 55 files in Muhammad.\n",
      "There are 55 files in Eye.\n",
      "There are 55 files in Hinduism.\n",
      "There are 54 files in Koran.\n",
      "There are 51 files in Maize.\n",
      "There are 54 files in Mohandas_Karamchand_Gandhi.\n",
      "There are 53 files in Money.\n",
      "There are 49 files in Pope_Benedict_XVI.\n",
      "There are 52 files in Roman_Catholic_Church.\n",
      "There are 52 files in Osama_Bin_Laden.\n",
      "There are 51 files in Rice.\n",
      "There are 48 files in Pope_John_Paul_II.\n",
      "There are 54 files in Buddha.\n",
      "There are 49 files in Moses.\n"
     ]
    }
   ],
   "source": [
    "import os\n",
    "\n",
    "languages = {}\n",
    "list_of_dirs = os.listdir('data/')\n",
    "print(f'There are {len(list_of_dirs)} directories')\n",
    "print()\n",
    "\n",
    "for directory in list_of_dirs:\n",
    "    path = (f'data/{directory}')\n",
    "    files = os.listdir(path)\n",
    "    for f in files:\n",
    "        lang = f.split('-')[1].split('.')[0]\n",
    "        if lang in languages:\n",
    "            languages[lang] += 1\n",
    "        else:\n",
    "            languages[lang] = 1\n",
    "    if len(files) != 61:\n",
    "        print(f'There are {len(files)} files in {directory}.')"
   ]
  },
  {
   "cell_type": "code",
   "execution_count": 18,
   "id": "1bd7fac8",
   "metadata": {
    "scrolled": true
   },
   "outputs": [
    {
     "data": {
      "text/plain": [
       "{'english': 61,\n",
       " 'afrikaans': 61,\n",
       " 'arabic': 61,\n",
       " 'belarusian': 61,\n",
       " 'bulgarian': 61,\n",
       " 'catalan': 61,\n",
       " 'czech': 61,\n",
       " 'welsh': 61,\n",
       " 'danish': 61,\n",
       " 'german': 61,\n",
       " 'estonian': 61,\n",
       " 'greek': 61,\n",
       " 'spanish': 61,\n",
       " 'basque': 61,\n",
       " 'persian': 61,\n",
       " 'french': 61,\n",
       " 'galician': 61,\n",
       " 'korean': 61,\n",
       " 'armenian': 61,\n",
       " 'croatian': 61,\n",
       " 'indonesian': 61,\n",
       " 'hebrew': 61,\n",
       " 'latin': 61,\n",
       " 'latvian': 61,\n",
       " 'lithuanian': 61,\n",
       " 'hungarian': 61,\n",
       " 'dutch': 61,\n",
       " 'japanese': 61,\n",
       " 'polish': 61,\n",
       " 'portuguese': 61,\n",
       " 'romanian': 61,\n",
       " 'russian': 61,\n",
       " 'slovak': 61,\n",
       " 'slovenian': 61,\n",
       " 'serbian': 61,\n",
       " 'finnish': 61,\n",
       " 'swedish': 61,\n",
       " 'tamil': 61,\n",
       " 'turkish': 61,\n",
       " 'ukrainian': 61,\n",
       " 'urdu': 61,\n",
       " 'vietnamese': 61,\n",
       " 'chinese': 61,\n",
       " 'irish': 60,\n",
       " 'hindi': 60,\n",
       " 'marathi': 60,\n",
       " 'italian': 59,\n",
       " 'kazakh': 59,\n",
       " 'telugu': 58,\n",
       " 'scottish_gaelic': 57,\n",
       " 'maltese': 50,\n",
       " 'classical_chinese': 50,\n",
       " 'sanskrit': 49,\n",
       " 'uyghur': 48,\n",
       " 'north_sami': 42,\n",
       " 'wolof': 37,\n",
       " 'gothic': 34,\n",
       " 'old_church_slavonic': 29}"
      ]
     },
     "execution_count": 18,
     "metadata": {},
     "output_type": "execute_result"
    }
   ],
   "source": [
    "{k: v for k, v in sorted(languages.items(), key=lambda item: item[1], reverse=True)}"
   ]
  },
  {
   "cell_type": "code",
   "execution_count": null,
   "id": "6552ef4d",
   "metadata": {},
   "outputs": [],
   "source": []
  }
 ],
 "metadata": {
  "kernelspec": {
   "display_name": "Python 3 (ipykernel)",
   "language": "python",
   "name": "python3"
  },
  "language_info": {
   "codemirror_mode": {
    "name": "ipython",
    "version": 3
   },
   "file_extension": ".py",
   "mimetype": "text/x-python",
   "name": "python",
   "nbconvert_exporter": "python",
   "pygments_lexer": "ipython3",
   "version": "3.9.6"
  }
 },
 "nbformat": 4,
 "nbformat_minor": 5
}
