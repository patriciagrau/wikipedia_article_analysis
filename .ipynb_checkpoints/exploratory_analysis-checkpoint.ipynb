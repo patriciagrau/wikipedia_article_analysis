{
 "cells": [
  {
   "cell_type": "markdown",
   "id": "69a1c5d5",
   "metadata": {},
   "source": [
    "                                                                                        Patricia Grau Francitorra\n",
    "# Exploratory article analysis\n",
    "## Objective\n",
    "1. Get data from Wikipedia - analyse html format\n",
    "2. UD tagging\n",
    "3. Treebanks\n",
    "4. Comparison\n",
    "  - Problem: lining up data with same information.\n",
    "    - Some files have a line for explanation: see first line of french article.\n",
    "    - Info in two sentences contained in one; see French article."
   ]
  },
  {
   "cell_type": "code",
   "execution_count": 23,
   "id": "894289ca",
   "metadata": {},
   "outputs": [],
   "source": [
    "import re\n",
    "import requests\n",
    "from bs4 import BeautifulSoup # first pip install bs4\n",
    "# format is shift alt f (in VSC)"
   ]
  },
  {
   "cell_type": "markdown",
   "id": "988db835",
   "metadata": {},
   "source": [
    "### 1. Get data from Wikipedia"
   ]
  },
  {
   "cell_type": "code",
   "execution_count": 24,
   "id": "f5903ccd",
   "metadata": {},
   "outputs": [
    {
     "data": {
      "text/plain": [
       "['https://en.wikipedia.org/wiki/Jupiter',\n",
       " 'https://sv.wikipedia.org/wiki/Jupiter',\n",
       " 'https://ca.wikipedia.org/wiki/Jupiter',\n",
       " 'https://es.wikipedia.org/wiki/Jupiter',\n",
       " 'https://fr.wikipedia.org/wiki/Jupiter']"
      ]
     },
     "execution_count": 24,
     "metadata": {},
     "output_type": "execute_result"
    }
   ],
   "source": [
    "# Neat idea, but doesn't work with disambiguating urls, such as Jupiter\n",
    "list_of_langs = ['en','sv' , 'ca', 'es', 'fr']\n",
    "list_of_urls = [f'https://{lang}.wikipedia.org/wiki/Jupiter' for lang in list_of_langs]\n",
    "list_of_urls"
   ]
  },
  {
   "cell_type": "code",
   "execution_count": 25,
   "id": "927090c9",
   "metadata": {},
   "outputs": [],
   "source": [
    "eng_jup_url = 'https://en.wikipedia.org/wiki/Jupiter'\n",
    "sv_jup_url = 'https://sv.wikipedia.org/wiki/Jupiter'\n",
    "fr_jup_url = 'https://fr.wikipedia.org/wiki/Jupiter_(planète)' # disambiguation issue\n",
    "spa_jup_url = 'https://es.wikipedia.org/wiki/Júpiter_(planeta)' # disambiguation issue\n",
    "ca_jup_url = 'https://ca.wikipedia.org/wiki/Júpiter_(planeta)' # disambiguation issue"
   ]
  },
  {
   "cell_type": "code",
   "execution_count": 36,
   "id": "9193ff6a",
   "metadata": {
    "scrolled": true
   },
   "outputs": [],
   "source": [
    "with open('jupiter/jupiter_en.html', 'w') as f:\n",
    "    f.write(requests.get(url = eng_jup_url).text)\n",
    "with open('jupiter/jupiter_spa.html', 'w') as g:\n",
    "    g.write(requests.get(url = spa_jup_url).text)\n",
    "with open('jupiter/jupiter_fr.html', 'w') as g:\n",
    "    g.write(requests.get(url = fr_jup_url).text)"
   ]
  },
  {
   "cell_type": "code",
   "execution_count": 27,
   "id": "0e82eecf",
   "metadata": {
    "scrolled": true
   },
   "outputs": [],
   "source": [
    "def print_cleantext(file):\n",
    "    f = open(file)\n",
    "    # print(f.readlines())\n",
    "    for alltext in f.readlines():\n",
    "        texto = alltext.strip('\\t')\n",
    "        if texto.startswith('<p>') or texto.startswith('</p><p>'): # if '<p>' in texto or '</p>' in texto:\n",
    "            cleantext = BeautifulSoup(texto, \"html.parser\").text # when using \"lxml\" as the parser insead of html.parser, some paragraphs/lines are missing\n",
    "            cleantext = re.sub(r'\\[\\d+\\]', '', cleantext) # remove references [digit]\n",
    "            cleantext = cleantext.strip()\n",
    "            if len(cleantext) != 0:\n",
    "                print(cleantext)\n",
    "                print()\n",
    "    f.close()\n",
    "    # TO DO - save to a file or use it for UD tagging"
   ]
  },
  {
   "cell_type": "code",
   "execution_count": 40,
   "id": "114f66ee",
   "metadata": {
    "scrolled": true
   },
   "outputs": [],
   "source": [
    "def save_cleantext(readfile, writefile):\n",
    "    f = open(readfile)\n",
    "    with open(writefile, 'w') as g:\n",
    "        for alltext in f.readlines():\n",
    "            texto = alltext.strip('\\t')\n",
    "            if texto.startswith('<p>') or texto.startswith('</p><p>'): # if '<p>' in texto or '</p>' in texto:\n",
    "                cleantext = BeautifulSoup(texto, \"html.parser\").text # when using \"lxml\" as the parser insead of html.parser, some paragraphs/lines are missing\n",
    "                cleantext = re.sub(r'\\[\\d+\\]', '', cleantext) # remove references [digit]\n",
    "                cleantext = cleantext.strip()\n",
    "                if len(cleantext) != 0:\n",
    "                    g.write(cleantext + '\\n')\n",
    "    f.close()"
   ]
  },
  {
   "cell_type": "code",
   "execution_count": 42,
   "id": "295f2e01",
   "metadata": {},
   "outputs": [],
   "source": [
    "save_cleantext('jupiter/jupiter_en.html', 'jupiter/clean_jupiter_en.txt')\n",
    "save_cleantext('jupiter/jupiter_spa.html', 'jupiter/clean_jupiter_spa.txt')\n",
    "save_cleantext('jupiter/jupiter_fr.html', 'jupiter/clean_jupiter_fr.txt')"
   ]
  },
  {
   "cell_type": "markdown",
   "id": "4ff3e01f",
   "metadata": {},
   "source": [
    "### 2. UD tagging"
   ]
  },
  {
   "attachments": {
    "Jupiter%20is%20the%20fifth%20planet%20from%20the%20Sun%20and%20the%20largest%20in%20the%20solar%20system.png": {
     "image/png": "[encoded data removed]"
    }
   },
   "cell_type": "markdown",
   "id": "4211d38c",
   "metadata": {},
   "source": [
    "![Jupiter%20is%20the%20fifth%20planet%20from%20the%20Sun%20and%20the%20largest%20in%20the%20solar%20system.png](attachment:Jupiter%20is%20the%20fifth%20planet%20from%20the%20Sun%20and%20the%20largest%20in%20the%20solar%20system.png)\n",
    "Example of what I want (from corenlp.run) -> in CONLLU format"
   ]
  },
  {
   "cell_type": "code",
   "execution_count": 14,
   "id": "386827e5",
   "metadata": {},
   "outputs": [],
   "source": [
    "# using stanza\n",
    "import stanza\n",
    "from stanza.utils.conll import CoNLL"
   ]
  },
  {
   "cell_type": "code",
   "execution_count": 45,
   "id": "d5d7fc9a",
   "metadata": {
    "scrolled": true
   },
   "outputs": [
    {
     "data": {
      "application/vnd.jupyter.widget-view+json": {
       "model_id": "01844959872f4fab809bf347446e90a5",
       "version_major": 2,
       "version_minor": 0
      },
      "text/plain": [
       "Downloading https://raw.githubusercontent.com/stanfordnlp/stanza-resources/main/resources_1.3.0.json:   0%|   …"
      ]
     },
     "metadata": {},
     "output_type": "display_data"
    },
    {
     "name": "stderr",
     "output_type": "stream",
     "text": [
      "2022-01-25 15:42:20 INFO: Downloading default packages for language: en (English)...\n",
      "2022-01-25 15:42:22 INFO: File exists: /home/gusgraupa@GU.GU.SE/stanza_resources/en/default.zip.\n",
      "2022-01-25 15:42:30 INFO: Finished downloading models and saved to /home/gusgraupa@GU.GU.SE/stanza_resources.\n",
      "2022-01-25 15:42:30 INFO: Loading these models for language: en (English):\n",
      "============================\n",
      "| Processor    | Package   |\n",
      "----------------------------\n",
      "| tokenize     | combined  |\n",
      "| pos          | combined  |\n",
      "| lemma        | combined  |\n",
      "| depparse     | combined  |\n",
      "| sentiment    | sstplus   |\n",
      "| constituency | wsj       |\n",
      "| ner          | ontonotes |\n",
      "============================\n",
      "\n",
      "2022-01-25 15:42:30 INFO: Use device: gpu\n",
      "2022-01-25 15:42:30 INFO: Loading: tokenize\n",
      "2022-01-25 15:42:30 INFO: Loading: pos\n",
      "2022-01-25 15:42:32 INFO: Loading: lemma\n",
      "2022-01-25 15:42:33 INFO: Loading: depparse\n",
      "2022-01-25 15:42:35 INFO: Loading: sentiment\n",
      "2022-01-25 15:42:38 INFO: Loading: constituency\n",
      "2022-01-25 15:42:42 INFO: Loading: ner\n",
      "2022-01-25 15:42:48 INFO: Done loading processors!\n"
     ]
    },
    {
     "data": {
      "application/vnd.jupyter.widget-view+json": {
       "model_id": "ff6317cac2e54d75b31a5c9eac2c7c83",
       "version_major": 2,
       "version_minor": 0
      },
      "text/plain": [
       "Downloading https://raw.githubusercontent.com/stanfordnlp/stanza-resources/main/resources_1.3.0.json:   0%|   …"
      ]
     },
     "metadata": {},
     "output_type": "display_data"
    },
    {
     "name": "stderr",
     "output_type": "stream",
     "text": [
      "2022-01-25 15:42:48 INFO: Downloading default packages for language: es (Spanish)...\n",
      "2022-01-25 15:42:50 INFO: File exists: /home/gusgraupa@GU.GU.SE/stanza_resources/es/default.zip.\n",
      "2022-01-25 15:42:59 INFO: Finished downloading models and saved to /home/gusgraupa@GU.GU.SE/stanza_resources.\n",
      "2022-01-25 15:42:59 INFO: Loading these models for language: es (Spanish):\n",
      "=======================\n",
      "| Processor | Package |\n",
      "-----------------------\n",
      "| tokenize  | ancora  |\n",
      "| mwt       | ancora  |\n",
      "| pos       | ancora  |\n",
      "| lemma     | ancora  |\n",
      "| depparse  | ancora  |\n",
      "| ner       | conll02 |\n",
      "=======================\n",
      "\n",
      "2022-01-25 15:42:59 INFO: Use device: gpu\n",
      "2022-01-25 15:42:59 INFO: Loading: tokenize\n",
      "2022-01-25 15:42:59 INFO: Loading: mwt\n",
      "2022-01-25 15:42:59 INFO: Loading: pos\n",
      "2022-01-25 15:43:01 INFO: Loading: lemma\n",
      "2022-01-25 15:43:01 INFO: Loading: depparse\n",
      "2022-01-25 15:43:06 INFO: Loading: ner\n",
      "2022-01-25 15:43:17 INFO: Done loading processors!\n"
     ]
    },
    {
     "data": {
      "application/vnd.jupyter.widget-view+json": {
       "model_id": "54ccd3faef074f4a9da5fe6c74ec62ac",
       "version_major": 2,
       "version_minor": 0
      },
      "text/plain": [
       "Downloading https://raw.githubusercontent.com/stanfordnlp/stanza-resources/main/resources_1.3.0.json:   0%|   …"
      ]
     },
     "metadata": {},
     "output_type": "display_data"
    },
    {
     "name": "stderr",
     "output_type": "stream",
     "text": [
      "2022-01-25 15:43:17 INFO: Downloading default packages for language: fr (French)...\n",
      "2022-01-25 15:43:18 INFO: File exists: /home/gusgraupa@GU.GU.SE/stanza_resources/fr/default.zip.\n",
      "2022-01-25 15:43:28 INFO: Finished downloading models and saved to /home/gusgraupa@GU.GU.SE/stanza_resources.\n",
      "2022-01-25 15:43:28 INFO: Loading these models for language: fr (French):\n",
      "=======================\n",
      "| Processor | Package |\n",
      "-----------------------\n",
      "| tokenize  | gsd     |\n",
      "| mwt       | gsd     |\n",
      "| pos       | gsd     |\n",
      "| lemma     | gsd     |\n",
      "| depparse  | gsd     |\n",
      "| ner       | wikiner |\n",
      "=======================\n",
      "\n",
      "2022-01-25 15:43:28 INFO: Use device: gpu\n",
      "2022-01-25 15:43:28 INFO: Loading: tokenize\n",
      "2022-01-25 15:43:28 INFO: Loading: mwt\n",
      "2022-01-25 15:43:28 INFO: Loading: pos\n",
      "2022-01-25 15:43:32 INFO: Loading: lemma\n",
      "2022-01-25 15:43:33 INFO: Loading: depparse\n",
      "2022-01-25 15:43:36 INFO: Loading: ner\n",
      "2022-01-25 15:43:45 INFO: Done loading processors!\n"
     ]
    }
   ],
   "source": [
    "# Getting first paragraph\n",
    "list_of_clean_files = [('jupiter/clean_jupiter_en.txt', 'en'), ('jupiter/clean_jupiter_spa.txt', 'es'), ('jupiter/clean_jupiter_fr.txt', 'fr')]\n",
    "for file, lang in list_of_clean_files:\n",
    "    stanza.download(lang)\n",
    "    nlp = stanza.Pipeline(lang)\n",
    "    with open(file, 'r') as f:\n",
    "        for line in f:\n",
    "            if line.startswith('J'): # First line talking about Jupiter\n",
    "                doc = nlp(line)\n",
    "                CoNLL.write_doc2conll(doc, f\"jupiter/jup_{lang}.conllu\")\n",
    "                break"
   ]
  },
  {
   "cell_type": "code",
   "execution_count": null,
   "id": "f3f8991a",
   "metadata": {},
   "outputs": [],
   "source": []
  }
 ],
 "metadata": {
  "kernelspec": {
   "display_name": "Python 3 (ipykernel)",
   "language": "python",
   "name": "python3"
  },
  "language_info": {
   "codemirror_mode": {
    "name": "ipython",
    "version": 3
   },
   "file_extension": ".py",
   "mimetype": "text/x-python",
   "name": "python",
   "nbconvert_exporter": "python",
   "pygments_lexer": "ipython3",
   "version": "3.9.6"
  }
 },
 "nbformat": 4,
 "nbformat_minor": 5
}
